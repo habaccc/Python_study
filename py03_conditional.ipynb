{
  "nbformat": 4,
  "nbformat_minor": 0,
  "metadata": {
    "colab": {
      "provenance": [],
      "authorship_tag": "ABX9TyPY3lpiFNh1zY3pwdB1RV34",
      "include_colab_link": true
    },
    "kernelspec": {
      "name": "python3",
      "display_name": "Python 3"
    },
    "language_info": {
      "name": "python"
    }
  },
  "cells": [
    {
      "cell_type": "markdown",
      "metadata": {
        "id": "view-in-github",
        "colab_type": "text"
      },
      "source": [
        "<a href=\"https://colab.research.google.com/github/habaccc/Python_study/blob/main/py03_conditional.ipynb\" target=\"_parent\"><img src=\"https://colab.research.google.com/assets/colab-badge.svg\" alt=\"Open In Colab\"/></a>"
      ]
    },
    {
      "cell_type": "markdown",
      "source": [
        "# else가 없는 조건문\n",
        "\n",
        "```\n",
        "if 조건식:\n",
        "    조건식이 참일 때 실행할 코드(블록)\n",
        "```\n",
        "\n",
        "  * `if 조건식` 뒤에는 반드시 콜론(:)을 사용해야 함.\n",
        "  * 코드 블록을 작성할 때 `{}`를 사용하지 않음.\n",
        "  * `if` 블록 안의 문장들은 반드시 같은 크기로 들여쓰기(indentation)를 해야 함."
      ],
      "metadata": {
        "id": "c7dbXCmIxXjE"
      }
    },
    {
      "cell_type": "code",
      "source": [
        "n = 100"
      ],
      "metadata": {
        "id": "RiwijxEezPsl"
      },
      "execution_count": null,
      "outputs": []
    },
    {
      "cell_type": "code",
      "source": [
        "if n > 0:\n",
        "  print('양수')\n",
        "  print('if 블록 끝')\n",
        "print('if 블록 바깥') # if 블록과 상관없이 무조건 실행하는 문장."
      ],
      "metadata": {
        "colab": {
          "base_uri": "https://localhost:8080/"
        },
        "id": "O8fzwOXszSWZ",
        "outputId": "93401337-e2e8-4092-e217-4259125a1e30"
      },
      "execution_count": null,
      "outputs": [
        {
          "output_type": "stream",
          "name": "stdout",
          "text": [
            "양수\n",
            "if 블록 끝\n",
            "if 블록 바깥\n"
          ]
        }
      ]
    },
    {
      "cell_type": "markdown",
      "source": [
        "# else가 있는 조건문\n",
        "\n",
        "```\n",
        "if 조건식:\n",
        "    참일 때 실행할 코드 블록\n",
        "else:\n",
        "    거짓일 때 실행할 코드 블록\n",
        "```"
      ],
      "metadata": {
        "id": "0vk-iuxW02_8"
      }
    },
    {
      "cell_type": "code",
      "source": [
        "n = 123\n",
        "if n % 2 == 1: # n % 2만 써도 됨.\n",
        "  print('홀수')\n",
        "else:\n",
        "  print('짝수')"
      ],
      "metadata": {
        "colab": {
          "base_uri": "https://localhost:8080/"
        },
        "id": "uXoMhDOr1del",
        "outputId": "b8ac4220-247f-4650-e31d-f6e5e2de86fc"
      },
      "execution_count": null,
      "outputs": [
        {
          "output_type": "stream",
          "name": "stdout",
          "text": [
            "홀수\n"
          ]
        }
      ]
    },
    {
      "cell_type": "markdown",
      "source": [
        "파이썬에서 참(True)로 취급하는 값:\n",
        "\n",
        "* 0이 아닌 숫자들.\n",
        "* 1개 이상의 문자를 가지고 있는 문자열.\n",
        "* 1개 이상의 원소를 가지고 있는 리스트(와 비슷한 객체)"
      ],
      "metadata": {
        "id": "I36b6Stn2Rsh"
      }
    },
    {
      "cell_type": "markdown",
      "source": [
        "# chained conditional\n",
        "\n",
        "```\n",
        "if 조건식1:\n",
        "    조건식1이 참일 때 실행할 코드 블록\n",
        "elif 조건식2:\n",
        "    조건식1이 거짓이고 조건식2가 참일 때 실행할 코드 블록\n",
        "...\n",
        "else:\n",
        "    위의 모든 조건이 거짓일 때 실행할 코드 블록\n",
        "\n",
        "```"
      ],
      "metadata": {
        "id": "_6TsPhmP3G0I"
      }
    },
    {
      "cell_type": "markdown",
      "source": [
        "Ex1. 정수 3개를 입력받고 변수에 저장. 평균이 90 이상이면 'A', 80 이상이면 'B', 70 이상이면 'C', 70 미만이면 'F' 출력."
      ],
      "metadata": {
        "id": "luXTc0uk35Oj"
      }
    },
    {
      "cell_type": "code",
      "source": [
        "x = int(input('점수 입력>>>'))\n",
        "y = int(input('점수 입력>>>'))\n",
        "z = int(input('점수 입력>>>'))\n",
        "\n",
        "a = (x + y + z) / 3\n",
        "print(f'평균 = {a}')\n",
        "\n",
        "if a >= 90:\n",
        "  print('A')\n",
        "elif a >= 80:\n",
        "  print('B')\n",
        "elif a >= 70:\n",
        "  print('C')\n",
        "else:\n",
        "  print('F')"
      ],
      "metadata": {
        "colab": {
          "base_uri": "https://localhost:8080/"
        },
        "id": "XM_TtUJ64Mt5",
        "outputId": "bf343c21-3ed7-4647-e8a7-d124ebeecc5c"
      },
      "execution_count": null,
      "outputs": [
        {
          "output_type": "stream",
          "name": "stdout",
          "text": [
            "점수 입력>>>80\n",
            "점수 입력>>>80\n",
            "점수 입력>>>80\n",
            "평균 = 80.0\n",
            "B\n"
          ]
        }
      ]
    }
  ]
}