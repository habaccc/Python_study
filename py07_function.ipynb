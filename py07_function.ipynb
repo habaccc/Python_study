{
  "nbformat": 4,
  "nbformat_minor": 0,
  "metadata": {
    "colab": {
      "provenance": [],
      "authorship_tag": "ABX9TyOTmYgJzJER//Z3nmoguX/D",
      "include_colab_link": true
    },
    "kernelspec": {
      "name": "python3",
      "display_name": "Python 3"
    },
    "language_info": {
      "name": "python"
    }
  },
  "cells": [
    {
      "cell_type": "markdown",
      "metadata": {
        "id": "view-in-github",
        "colab_type": "text"
      },
      "source": [
        "<a href=\"https://colab.research.google.com/github/habaccc/Python_study/blob/main/py07_function.ipynb\" target=\"_parent\"><img src=\"https://colab.research.google.com/assets/colab-badge.svg\" alt=\"Open In Colab\"/></a>"
      ]
    },
    {
      "cell_type": "markdown",
      "source": [
        "# Function(함수)"
      ],
      "metadata": {
        "id": "5-UUrHIHE3KP"
      }
    },
    {
      "cell_type": "markdown",
      "source": [
        "* function(함수): 기능을 수행하는 코드 블록.\n",
        "* argument: 함수를 호출하는 곳에서 함수에게 전달하는 값.\n",
        "* parameter: argument를 저장하기 위해서 함수 선언부에서 선언하는 지역 변수.\n",
        "* return value: 함수가 기능의 수행 결과르 리턴하는 값.\n",
        "  * return value가 있는 함수\n",
        "  * return value가 없는 함수\n",
        "* 파이썬 함수 정의 방법:\n",
        "  ```\n",
        "  def function_name([param, ...]):\n",
        "    [\"\"\"문서화 주석 - 함수 기능 설명, 파라미터 설명, 리턴 값 설명\"\"\"]\n",
        "    함수 기능 구현\n",
        "    [return 값]\n",
        "  ```\n",
        "* return value가 없는 경우에,\n",
        "  * return 문장을 생략.\n",
        "  * return None 명시할 수도 있음."
      ],
      "metadata": {
        "id": "rr0ktAfIFQ2k"
      }
    },
    {
      "cell_type": "code",
      "source": [
        "def subtract(x, y):\n",
        "  \"\"\"2개의 숫자 x, y를 전달받아서 x - y 결과를 리턴하는 함수.\n",
        "  \"\"\"\n",
        "\n",
        "  return x - y"
      ],
      "metadata": {
        "id": "eslTKJLHHnSU"
      },
      "execution_count": 1,
      "outputs": []
    },
    {
      "cell_type": "code",
      "source": [
        "# 함수 호출\n",
        "result = subtract(1, 2)\n",
        "result"
      ],
      "metadata": {
        "colab": {
          "base_uri": "https://localhost:8080/"
        },
        "id": "pGs5P7uCIRVC",
        "outputId": "c3e3269a-c81c-4fab-bd18-30b0693a9e0d"
      },
      "execution_count": 2,
      "outputs": [
        {
          "output_type": "execute_result",
          "data": {
            "text/plain": [
              "-1"
            ]
          },
          "metadata": {},
          "execution_count": 2
        }
      ]
    },
    {
      "cell_type": "code",
      "source": [
        "def repeat_message(message, n):\n",
        "  \"\"\"문자열(message)과 정수(n)을 전달받아서, message를 n번 출력하는 함수.\n",
        "  \"\"\"\n",
        "  for _ in range(n):\n",
        "    print(message)\n",
        "\n",
        "\n",
        "  #return None 리턴 값이 없으면 보통 return문을 생략하지만, return None으로 명시하기도 함. (있어도 없어도 됨)"
      ],
      "metadata": {
        "id": "UnVJ2jKsJGRz"
      },
      "execution_count": 3,
      "outputs": []
    },
    {
      "cell_type": "code",
      "source": [
        "repeat_message('안녕하세요', 3)"
      ],
      "metadata": {
        "colab": {
          "base_uri": "https://localhost:8080/"
        },
        "id": "ujKpP03mJyP8",
        "outputId": "f7480dea-b751-40eb-b1de-aff363bab044"
      },
      "execution_count": 4,
      "outputs": [
        {
          "output_type": "stream",
          "name": "stdout",
          "text": [
            "안녕하세요\n",
            "안녕하세요\n",
            "안녕하세요\n"
          ]
        }
      ]
    },
    {
      "cell_type": "markdown",
      "source": [
        "# 숙제"
      ],
      "metadata": {
        "id": "Dnv6wVt-NBM3"
      }
    },
    {
      "cell_type": "markdown",
      "source": [
        "## Ex 1.\n",
        "* 함수 이름: make_list\n",
        "* 기능: start 이상 end 미만의 정수 난수 n개를 갖는 리스트를 반환하는 함수."
      ],
      "metadata": {
        "id": "OX5-JaWjMXO3"
      }
    },
    {
      "cell_type": "code",
      "source": [
        "import random"
      ],
      "metadata": {
        "id": "WmItFJWaREGp"
      },
      "execution_count": 5,
      "outputs": []
    },
    {
      "cell_type": "code",
      "source": [
        "def make_list(start, end, n):\n",
        "\n",
        "  return [random.randrange(start, end) for _ in range(n)]"
      ],
      "metadata": {
        "id": "I1p94tzsNEDm"
      },
      "execution_count": 6,
      "outputs": []
    },
    {
      "cell_type": "markdown",
      "source": [
        "## Ex 2.\n",
        "* 함수 이름: calc_sum\n",
        "* 기능: 숫자들의 리스트를 전달받아서, 리스트의 모든 원소들의 합을 리턴하는 함수."
      ],
      "metadata": {
        "id": "o-jUOLuKMqTX"
      }
    },
    {
      "cell_type": "code",
      "source": [
        "def calc_sum(num):\n",
        "#  total = 0\n",
        "#  for x in num:\n",
        "#    total += x\n",
        "\n",
        "  return sum(num)"
      ],
      "metadata": {
        "id": "CVcEyOY6OSbS"
      },
      "execution_count": 7,
      "outputs": []
    },
    {
      "cell_type": "markdown",
      "source": [
        "## Ex 3.\n",
        "* 함수 이름: calc_mean\n",
        "* 기능: 숫자들의 리스트를 전달받아서, 리스트의 원소들의 평균을 리턴하는 함수."
      ],
      "metadata": {
        "id": "lVV0tcvuMyIu"
      }
    },
    {
      "cell_type": "code",
      "source": [
        "def calc_mean(num):\n",
        "  n = len(num)\n",
        "  mean = sum(num) / n\n",
        "  return mean"
      ],
      "metadata": {
        "id": "X_pq6IXAQzxF"
      },
      "execution_count": 8,
      "outputs": []
    },
    {
      "cell_type": "markdown",
      "source": [
        "## Ex 4.\n",
        "* 함수 이름: calc_var\n",
        "* 기능: 숫자들의 리스트를 전달받아서, 리스트의 원소들의 분산(variance)을 리턴하는 함수.\n",
        "  * 분산 = (값 - 평균)**2 들의 평균"
      ],
      "metadata": {
        "id": "abazSPJvM3kL"
      }
    },
    {
      "cell_type": "code",
      "source": [
        "def calc_var(num):\n",
        "  n = len(num)\n",
        "  mean = sum(num) / n\n",
        "  var = sum((x - mean) ** 2 for x in num) / n\n",
        "\n",
        "  return var"
      ],
      "metadata": {
        "id": "N8OY0xYAReir"
      },
      "execution_count": 9,
      "outputs": []
    },
    {
      "cell_type": "code",
      "source": [
        "num_list = make_list(0, 10, 5)\n",
        "print(f'list: ', num_list)\n",
        "\n",
        "total = calc_sum(num_list)\n",
        "print(f'sum: ', total)\n",
        "\n",
        "mean = calc_mean(num_list)\n",
        "print(f'mean: ', mean)\n",
        "\n",
        "var = calc_var(num_list)\n",
        "print(f'var: ', var)"
      ],
      "metadata": {
        "colab": {
          "base_uri": "https://localhost:8080/"
        },
        "id": "HuEJuET9T57S",
        "outputId": "23e1dc55-222f-4750-dc3d-6bcedef2833a"
      },
      "execution_count": 10,
      "outputs": [
        {
          "output_type": "stream",
          "name": "stdout",
          "text": [
            "list:  [5, 2, 2, 1, 2]\n",
            "sum:  12\n",
            "mean:  2.4\n",
            "var:  1.8400000000000003\n"
          ]
        }
      ]
    },
    {
      "cell_type": "code",
      "source": [
        "def make_lotto_list():\n",
        "  lottos = []\n",
        "  for _ in range(5):\n",
        "    lotto = set()\n",
        "    while True:\n",
        "      lotto.add(random.randrange(1, 46))\n",
        "      if len(lotto) == 5:\n",
        "          break\n",
        "    lottos.append(lotto)\n",
        "  return lottos"
      ],
      "metadata": {
        "id": "hsTGWLMx474e"
      },
      "execution_count": 11,
      "outputs": []
    },
    {
      "cell_type": "code",
      "source": [
        "make_lotto_list()"
      ],
      "metadata": {
        "colab": {
          "base_uri": "https://localhost:8080/"
        },
        "id": "h4GzKOa-5bZE",
        "outputId": "875b5a75-f628-4e5a-abd3-45b144601d05"
      },
      "execution_count": 12,
      "outputs": [
        {
          "output_type": "execute_result",
          "data": {
            "text/plain": [
              "[{19, 25, 26, 32, 37},\n",
              " {1, 7, 10, 12, 21},\n",
              " {5, 20, 21, 25, 38},\n",
              " {1, 15, 28, 30, 31},\n",
              " {3, 19, 21, 23, 26}]"
            ]
          },
          "metadata": {},
          "execution_count": 12
        }
      ]
    },
    {
      "cell_type": "markdown",
      "source": [
        "파이썬은 2개 이상의 값을 리턴하는 함수를 정의할 수 있음. 함수를 호출한 곳에서는 리턴 값을 튜플로 취급하면 됨.\n",
        "\n",
        "x, y = (1, 2) # decomposition(성분 분해)"
      ],
      "metadata": {
        "id": "py7tVAQs5ik_"
      }
    },
    {
      "cell_type": "code",
      "source": [
        "def plus_and_minus(x, y):\n",
        "  return x + y, x - y"
      ],
      "metadata": {
        "id": "JZx6MN2w5pI_"
      },
      "execution_count": 14,
      "outputs": []
    },
    {
      "cell_type": "code",
      "source": [
        "result = plus_and_minus(1, 2)\n",
        "result"
      ],
      "metadata": {
        "colab": {
          "base_uri": "https://localhost:8080/"
        },
        "id": "mX0ZNijL57zk",
        "outputId": "84debce3-80e3-49d2-b644-860df182c4d0"
      },
      "execution_count": 15,
      "outputs": [
        {
          "output_type": "execute_result",
          "data": {
            "text/plain": [
              "(3, -1)"
            ]
          },
          "metadata": {},
          "execution_count": 15
        }
      ]
    },
    {
      "cell_type": "code",
      "source": [
        "plus, minus = plus"
      ],
      "metadata": {
        "id": "uj3oL9Ct6c0e"
      },
      "execution_count": null,
      "outputs": []
    },
    {
      "cell_type": "markdown",
      "source": [
        "숫자들의 리스트를 전달받아서, 최대값과 최솟값을 리턴하는 함수를 정의하고, 테스트"
      ],
      "metadata": {
        "id": "hCAyd0rz6iX5"
      }
    },
    {
      "cell_type": "code",
      "source": [
        "def find_max_and_min(num_list):\n",
        "  max = num_list[0] # 리스트의 첫번째 원소를 최댓값이라고 가정.\n",
        "  min = num_list[0] # 리스트의 첫번째 원소를 최솟값이라고 가정.\n",
        "\n",
        "  for x in num_list: # 리스트의 원소들을 처음부터 끝까지 순서대로 반복하면서(하나씩 꺼내면서)\n",
        "    if (x > max): # 리스트에 있는 값이 max보다 크다면\n",
        "      max = x     # 리스트에서 찾은 값으로 max를 변경\n",
        "    if (x < min): # elif 쓰면안됨( 최대값과 최솟값을 찾는 로직이 아예 다르기 때문에\n",
        "      min = x     # 리스트에 있는 값이 min보다 작다면 리스트에서 찾은 값으로 min을 변경\n",
        "\n",
        "  return max, min"
      ],
      "metadata": {
        "id": "_QU4Ej-s6pE5"
      },
      "execution_count": 17,
      "outputs": []
    },
    {
      "cell_type": "code",
      "source": [
        "numbers = make_list(0, 100, 10)\n",
        "print(numbers)\n",
        "max, min = find_max_and_min(numbers)\n",
        "print(f'max = {max}, min = {min}')"
      ],
      "metadata": {
        "colab": {
          "base_uri": "https://localhost:8080/"
        },
        "id": "7mghX4639P06",
        "outputId": "75a268b2-f1eb-4501-dbb6-0c9c71646ac2"
      },
      "execution_count": 19,
      "outputs": [
        {
          "output_type": "stream",
          "name": "stdout",
          "text": [
            "[79, 38, 44, 78, 67, 99, 89, 85, 11, 28]\n",
            "max = 99, min = 11\n"
          ]
        }
      ]
    },
    {
      "cell_type": "markdown",
      "source": [
        "숫자들의 리스트를 전달받아서 최댓값과 최댓값의 인덱스(위치)를 리턴하는 함수를 정의.\n",
        "\n",
        "최댓값이 2개 이상인 경우, 먼저 리스트에 있는 최댓값의 인덱스를 리턴."
      ],
      "metadata": {
        "id": "trtwVzqN9vQc"
      }
    },
    {
      "cell_type": "code",
      "source": [
        "def find_max_and_index(num_list):\n",
        "  max = num_list[0]\n",
        "  max_index = 0\n",
        "  for i, v in enumerate(num_list):\n",
        "    if (v > max):\n",
        "      max = v\n",
        "      max_index = i\n",
        "\n",
        "  return max, max_index"
      ],
      "metadata": {
        "id": "BXrFOICM-Jj5"
      },
      "execution_count": 25,
      "outputs": []
    },
    {
      "cell_type": "code",
      "source": [
        "numbers = [1, 100, 20, 100, 0, -1, 99]\n",
        "find_max_and_index(numbers) # if (v >= max)로 한다면 뒤에 나오는 100의 index를 리턴하게 됨. if (v > max)로 하면 뒤의 값은 없어짐"
      ],
      "metadata": {
        "colab": {
          "base_uri": "https://localhost:8080/"
        },
        "id": "SA4HfiSu_f1b",
        "outputId": "758ea123-9255-4478-b586-dda43245de5a"
      },
      "execution_count": 26,
      "outputs": [
        {
          "output_type": "execute_result",
          "data": {
            "text/plain": [
              "(100, 1)"
            ]
          },
          "metadata": {},
          "execution_count": 26
        }
      ]
    }
  ]
}