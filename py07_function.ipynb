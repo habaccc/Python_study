{
  "nbformat": 4,
  "nbformat_minor": 0,
  "metadata": {
    "colab": {
      "provenance": [],
      "authorship_tag": "ABX9TyP8aOJfFymkD4v7TVjb/FOn",
      "include_colab_link": true
    },
    "kernelspec": {
      "name": "python3",
      "display_name": "Python 3"
    },
    "language_info": {
      "name": "python"
    }
  },
  "cells": [
    {
      "cell_type": "markdown",
      "metadata": {
        "id": "view-in-github",
        "colab_type": "text"
      },
      "source": [
        "<a href=\"https://colab.research.google.com/github/habaccc/Python_study/blob/main/py07_function.ipynb\" target=\"_parent\"><img src=\"https://colab.research.google.com/assets/colab-badge.svg\" alt=\"Open In Colab\"/></a>"
      ]
    },
    {
      "cell_type": "markdown",
      "source": [
        "# Function(함수)"
      ],
      "metadata": {
        "id": "5-UUrHIHE3KP"
      }
    },
    {
      "cell_type": "markdown",
      "source": [
        "* function(함수): 기능을 수행하는 코드 블록.\n",
        "* argument: 함수를 호출하는 곳에서 함수에게 전달하는 값.\n",
        "* parameter: argument를 저장하기 위해서 함수 선언부에서 선언하는 지역 변수.\n",
        "* return value: 함수가 기능의 수행 결과르 리턴하는 값.\n",
        "  * return value가 있는 함수\n",
        "  * return value가 없는 함수\n",
        "* 파이썬 함수 정의 방법:\n",
        "  ```\n",
        "  def function_name([param, ...]):\n",
        "    [\"\"\"문서화 주석 - 함수 기능 설명, 파라미터 설명, 리턴 값 설명\"\"\"]\n",
        "    함수 기능 구현\n",
        "    [return 값]\n",
        "  ```\n",
        "* return value가 없는 경우에,\n",
        "  * return 문장을 생략.\n",
        "  * return None 명시할 수도 있음."
      ],
      "metadata": {
        "id": "rr0ktAfIFQ2k"
      }
    },
    {
      "cell_type": "code",
      "source": [
        "def subtract(x, y):\n",
        "  \"\"\"2개의 숫자 x, y를 전달받아서 x - y 결과를 리턴하는 함수.\n",
        "  \"\"\"\n",
        "\n",
        "  return x - y"
      ],
      "metadata": {
        "id": "eslTKJLHHnSU"
      },
      "execution_count": 1,
      "outputs": []
    },
    {
      "cell_type": "code",
      "source": [
        "# 함수 호출\n",
        "result = subtract(1, 2)\n",
        "result"
      ],
      "metadata": {
        "colab": {
          "base_uri": "https://localhost:8080/"
        },
        "id": "pGs5P7uCIRVC",
        "outputId": "c3e3269a-c81c-4fab-bd18-30b0693a9e0d"
      },
      "execution_count": 2,
      "outputs": [
        {
          "output_type": "execute_result",
          "data": {
            "text/plain": [
              "-1"
            ]
          },
          "metadata": {},
          "execution_count": 2
        }
      ]
    },
    {
      "cell_type": "code",
      "source": [
        "def repeat_message(message, n):\n",
        "  \"\"\"문자열(message)과 정수(n)을 전달받아서, message를 n번 출력하는 함수.\n",
        "  \"\"\"\n",
        "  for _ in range(n):\n",
        "    print(message)\n",
        "\n",
        "\n",
        "  #return None 리턴 값이 없으면 보통 return문을 생략하지만, return None으로 명시하기도 함. (있어도 없어도 됨)"
      ],
      "metadata": {
        "id": "UnVJ2jKsJGRz"
      },
      "execution_count": 3,
      "outputs": []
    },
    {
      "cell_type": "code",
      "source": [
        "repeat_message('안녕하세요', 3)"
      ],
      "metadata": {
        "colab": {
          "base_uri": "https://localhost:8080/"
        },
        "id": "ujKpP03mJyP8",
        "outputId": "f7480dea-b751-40eb-b1de-aff363bab044"
      },
      "execution_count": 4,
      "outputs": [
        {
          "output_type": "stream",
          "name": "stdout",
          "text": [
            "안녕하세요\n",
            "안녕하세요\n",
            "안녕하세요\n"
          ]
        }
      ]
    },
    {
      "cell_type": "markdown",
      "source": [
        "# 숙제"
      ],
      "metadata": {
        "id": "Dnv6wVt-NBM3"
      }
    },
    {
      "cell_type": "markdown",
      "source": [
        "## Ex 1.\n",
        "* 함수 이름: make_list\n",
        "* 기능: start 이상 end 미만의 정수 난수 n개를 갖는 리스트를 반환하는 함수."
      ],
      "metadata": {
        "id": "OX5-JaWjMXO3"
      }
    },
    {
      "cell_type": "code",
      "source": [
        "import random"
      ],
      "metadata": {
        "id": "WmItFJWaREGp"
      },
      "execution_count": 5,
      "outputs": []
    },
    {
      "cell_type": "code",
      "source": [
        "def make_list(start, end, n):\n",
        "\n",
        "  return [random.randrange(start, end) for _ in range(n)]"
      ],
      "metadata": {
        "id": "I1p94tzsNEDm"
      },
      "execution_count": 6,
      "outputs": []
    },
    {
      "cell_type": "markdown",
      "source": [
        "## Ex 2.\n",
        "* 함수 이름: calc_sum\n",
        "* 기능: 숫자들의 리스트를 전달받아서, 리스트의 모든 원소들의 합을 리턴하는 함수."
      ],
      "metadata": {
        "id": "o-jUOLuKMqTX"
      }
    },
    {
      "cell_type": "code",
      "source": [
        "def calc_sum(num):\n",
        "#  total = 0\n",
        "#  for x in num:\n",
        "#    total += x\n",
        "\n",
        "  return sum(num)"
      ],
      "metadata": {
        "id": "CVcEyOY6OSbS"
      },
      "execution_count": 7,
      "outputs": []
    },
    {
      "cell_type": "markdown",
      "source": [
        "## Ex 3.\n",
        "* 함수 이름: calc_mean\n",
        "* 기능: 숫자들의 리스트를 전달받아서, 리스트의 원소들의 평균을 리턴하는 함수."
      ],
      "metadata": {
        "id": "lVV0tcvuMyIu"
      }
    },
    {
      "cell_type": "code",
      "source": [
        "def calc_mean(num):\n",
        "  n = len(num)\n",
        "  mean = sum(num) / n\n",
        "  return mean"
      ],
      "metadata": {
        "id": "X_pq6IXAQzxF"
      },
      "execution_count": 8,
      "outputs": []
    },
    {
      "cell_type": "markdown",
      "source": [
        "## Ex 4.\n",
        "* 함수 이름: calc_var\n",
        "* 기능: 숫자들의 리스트를 전달받아서, 리스트의 원소들의 분산(variance)을 리턴하는 함수.\n",
        "  * 분산 = (값 - 평균)**2 들의 평균"
      ],
      "metadata": {
        "id": "abazSPJvM3kL"
      }
    },
    {
      "cell_type": "code",
      "source": [
        "def calc_var(num):\n",
        "  n = len(num)\n",
        "  mean = sum(num) / n\n",
        "  var = sum((x - mean) ** 2 for x in num) / n\n",
        "\n",
        "  return var"
      ],
      "metadata": {
        "id": "N8OY0xYAReir"
      },
      "execution_count": 9,
      "outputs": []
    },
    {
      "cell_type": "code",
      "source": [
        "num_list = make_list(0, 10, 5)\n",
        "print(f'list: ', num_list)\n",
        "\n",
        "total = calc_sum(num_list)\n",
        "print(f'sum: ', total)\n",
        "\n",
        "mean = calc_mean(num_list)\n",
        "print(f'mean: ', mean)\n",
        "\n",
        "var = calc_var(num_list)\n",
        "print(f'var: ', var)"
      ],
      "metadata": {
        "colab": {
          "base_uri": "https://localhost:8080/"
        },
        "id": "HuEJuET9T57S",
        "outputId": "23e1dc55-222f-4750-dc3d-6bcedef2833a"
      },
      "execution_count": 10,
      "outputs": [
        {
          "output_type": "stream",
          "name": "stdout",
          "text": [
            "list:  [5, 2, 2, 1, 2]\n",
            "sum:  12\n",
            "mean:  2.4\n",
            "var:  1.8400000000000003\n"
          ]
        }
      ]
    },
    {
      "cell_type": "code",
      "source": [
        "def make_lotto_list():\n",
        "  lottos = []\n",
        "  for _ in range(5):\n",
        "    lotto = set()\n",
        "    while True:\n",
        "      lotto.add(random.randrange(1, 46))\n",
        "      if len(lotto) == 5:\n",
        "          break\n",
        "    lottos.append(lotto)\n",
        "  return lottos"
      ],
      "metadata": {
        "id": "hsTGWLMx474e"
      },
      "execution_count": 11,
      "outputs": []
    },
    {
      "cell_type": "code",
      "source": [
        "make_lotto_list()"
      ],
      "metadata": {
        "colab": {
          "base_uri": "https://localhost:8080/"
        },
        "id": "h4GzKOa-5bZE",
        "outputId": "875b5a75-f628-4e5a-abd3-45b144601d05"
      },
      "execution_count": 12,
      "outputs": [
        {
          "output_type": "execute_result",
          "data": {
            "text/plain": [
              "[{19, 25, 26, 32, 37},\n",
              " {1, 7, 10, 12, 21},\n",
              " {5, 20, 21, 25, 38},\n",
              " {1, 15, 28, 30, 31},\n",
              " {3, 19, 21, 23, 26}]"
            ]
          },
          "metadata": {},
          "execution_count": 12
        }
      ]
    },
    {
      "cell_type": "markdown",
      "source": [
        "파이썬은 2개 이상의 값을 리턴하는 함수를 정의할 수 있음. 함수를 호출한 곳에서는 리턴 값을 튜플로 취급하면 됨.\n",
        "\n",
        "x, y = (1, 2) # decomposition(성분 분해)"
      ],
      "metadata": {
        "id": "py7tVAQs5ik_"
      }
    },
    {
      "cell_type": "code",
      "source": [
        "def plus_and_minus(x, y):\n",
        "  return x + y, x - y"
      ],
      "metadata": {
        "id": "JZx6MN2w5pI_"
      },
      "execution_count": 14,
      "outputs": []
    },
    {
      "cell_type": "code",
      "source": [
        "result = plus_and_minus(1, 2)\n",
        "result"
      ],
      "metadata": {
        "colab": {
          "base_uri": "https://localhost:8080/"
        },
        "id": "mX0ZNijL57zk",
        "outputId": "84debce3-80e3-49d2-b644-860df182c4d0"
      },
      "execution_count": 15,
      "outputs": [
        {
          "output_type": "execute_result",
          "data": {
            "text/plain": [
              "(3, -1)"
            ]
          },
          "metadata": {},
          "execution_count": 15
        }
      ]
    },
    {
      "cell_type": "code",
      "source": [
        "plus, minus = plus"
      ],
      "metadata": {
        "id": "uj3oL9Ct6c0e"
      },
      "execution_count": null,
      "outputs": []
    },
    {
      "cell_type": "markdown",
      "source": [
        "숫자들의 리스트를 전달받아서, 최대값과 최솟값을 리턴하는 함수를 정의하고, 테스트"
      ],
      "metadata": {
        "id": "hCAyd0rz6iX5"
      }
    },
    {
      "cell_type": "code",
      "source": [
        "def find_max_and_min(num_list):\n",
        "  max = num_list[0] # 리스트의 첫번째 원소를 최댓값이라고 가정.\n",
        "  min = num_list[0] # 리스트의 첫번째 원소를 최솟값이라고 가정.\n",
        "\n",
        "  for x in num_list: # 리스트의 원소들을 처음부터 끝까지 순서대로 반복하면서(하나씩 꺼내면서)\n",
        "    if (x > max): # 리스트에 있는 값이 max보다 크다면\n",
        "      max = x     # 리스트에서 찾은 값으로 max를 변경\n",
        "    if (x < min): # elif 쓰면안됨( 최대값과 최솟값을 찾는 로직이 아예 다르기 때문에\n",
        "      min = x     # 리스트에 있는 값이 min보다 작다면 리스트에서 찾은 값으로 min을 변경\n",
        "\n",
        "  return max, min"
      ],
      "metadata": {
        "id": "_QU4Ej-s6pE5"
      },
      "execution_count": 17,
      "outputs": []
    },
    {
      "cell_type": "code",
      "source": [
        "numbers = make_list(0, 100, 10)\n",
        "print(numbers)\n",
        "max, min = find_max_and_min(numbers)\n",
        "print(f'max = {max}, min = {min}')"
      ],
      "metadata": {
        "colab": {
          "base_uri": "https://localhost:8080/"
        },
        "id": "7mghX4639P06",
        "outputId": "75a268b2-f1eb-4501-dbb6-0c9c71646ac2"
      },
      "execution_count": 19,
      "outputs": [
        {
          "output_type": "stream",
          "name": "stdout",
          "text": [
            "[79, 38, 44, 78, 67, 99, 89, 85, 11, 28]\n",
            "max = 99, min = 11\n"
          ]
        }
      ]
    },
    {
      "cell_type": "markdown",
      "source": [
        "숫자들의 리스트를 전달받아서 최댓값과 최댓값의 인덱스(위치)를 리턴하는 함수를 정의.\n",
        "\n",
        "최댓값이 2개 이상인 경우, 먼저 리스트에 있는 최댓값의 인덱스를 리턴."
      ],
      "metadata": {
        "id": "trtwVzqN9vQc"
      }
    },
    {
      "cell_type": "code",
      "source": [
        "def find_max_and_index(num_list):\n",
        "  max = num_list[0]\n",
        "  max_index = 0\n",
        "  for i, v in enumerate(num_list):\n",
        "    if (v > max):\n",
        "      max = v\n",
        "      max_index = i\n",
        "\n",
        "  return max, max_index"
      ],
      "metadata": {
        "id": "BXrFOICM-Jj5"
      },
      "execution_count": 25,
      "outputs": []
    },
    {
      "cell_type": "code",
      "source": [
        "numbers = [1, 100, 20, 100, 0, -1, 99]\n",
        "find_max_and_index(numbers) # if (v >= max)로 한다면 뒤에 나오는 100의 index를 리턴하게 됨. if (v > max)로 하면 뒤의 값은 없어짐"
      ],
      "metadata": {
        "colab": {
          "base_uri": "https://localhost:8080/"
        },
        "id": "SA4HfiSu_f1b",
        "outputId": "758ea123-9255-4478-b586-dda43245de5a"
      },
      "execution_count": 26,
      "outputs": [
        {
          "output_type": "execute_result",
          "data": {
            "text/plain": [
              "(100, 1)"
            ]
          },
          "metadata": {},
          "execution_count": 26
        }
      ]
    },
    {
      "cell_type": "markdown",
      "source": [
        "# Default argument(기본 인수)\n",
        "\n",
        "* 함수를 정의할 때 파라미터에 설정된 기본값.\n",
        "  * 함수를 호출할 때 파라미터에 값을 전달하지 않으면, 기본값이 사용됨.\n",
        "  * 함수를 호출할 때 파라미터에 값을 전달하면, 기본값은 무시되고 전달한 아규먼트가 사용됨.\n",
        "* **(주의)** 함수를 정의할 때, default arument를 갖는 파라미터들은 반드시 default argument를 갖지 않는 파라미터들 뒤에 선언해야 함!\n",
        "  * 기본값을 갖지 않는 파라미터들을 먼저 선언하고, 기본값을 갖는 파라미터들을 뒤에 선언해야 함."
      ],
      "metadata": {
        "id": "MvT58M4TEQYj"
      }
    },
    {
      "cell_type": "code",
      "source": [
        "def repeat_message2(msg, n=1):\n",
        "  for _ in range(n):\n",
        "    print(msg)"
      ],
      "metadata": {
        "id": "0W6TJ_EfFRq0"
      },
      "execution_count": 27,
      "outputs": []
    },
    {
      "cell_type": "code",
      "source": [
        "repeat_message2('졸렵다')"
      ],
      "metadata": {
        "colab": {
          "base_uri": "https://localhost:8080/"
        },
        "id": "mvxWk_BUF687",
        "outputId": "12423542-15c7-443e-f739-4d42137eb8d6"
      },
      "execution_count": 31,
      "outputs": [
        {
          "output_type": "stream",
          "name": "stdout",
          "text": [
            "졸렵다\n"
          ]
        }
      ]
    },
    {
      "cell_type": "code",
      "source": [
        "repeat_message2('피곤하다', 10)"
      ],
      "metadata": {
        "colab": {
          "base_uri": "https://localhost:8080/"
        },
        "id": "SOxuoo67GHlD",
        "outputId": "b6868b51-1a7f-47c4-8583-767f1ac16a95"
      },
      "execution_count": 32,
      "outputs": [
        {
          "output_type": "stream",
          "name": "stdout",
          "text": [
            "피곤하다\n",
            "피곤하다\n",
            "피곤하다\n",
            "피곤하다\n",
            "피곤하다\n",
            "피곤하다\n",
            "피곤하다\n",
            "피곤하다\n",
            "피곤하다\n",
            "피곤하다\n"
          ]
        }
      ]
    },
    {
      "cell_type": "markdown",
      "source": [
        "# argument 전달 방법:\n",
        "\n",
        "* positional argument: 함수 정의에서 선언된 파라미터 순서대로 아규먼트들을 전달하는 방법.\n",
        "* keyword argument: `param=value` 형식으로 아규먼트들을 전달하는 방법.\n",
        "  * keyword argument 방식에서는 파라미터의 순서를 지키지 않아도 됨.\n",
        "* **(주의)** 함수 호출할 때 positional 방식과 keyword 방식을 함께 사용하는 경우에는, 반드시 positional argument를 먼저 사용하고, keyword argument는 나중에 사용해야 함."
      ],
      "metadata": {
        "id": "Sr8Dnm4MHMe2"
      }
    },
    {
      "cell_type": "code",
      "source": [
        "def minus(x, y):\n",
        "  return x - y\n",
        "\n",
        "minus(1, 2) # positional argument"
      ],
      "metadata": {
        "colab": {
          "base_uri": "https://localhost:8080/"
        },
        "id": "IrXHuZVmJBez",
        "outputId": "6cf45f7a-850b-4b24-de75-c08f7f20fc25"
      },
      "execution_count": 34,
      "outputs": [
        {
          "output_type": "execute_result",
          "data": {
            "text/plain": [
              "-1"
            ]
          },
          "metadata": {},
          "execution_count": 34
        }
      ]
    },
    {
      "cell_type": "code",
      "source": [
        "minus(x=1, y=2) # keyword argument"
      ],
      "metadata": {
        "colab": {
          "base_uri": "https://localhost:8080/"
        },
        "id": "aSseLTdAJbES",
        "outputId": "7bba71bd-2d4d-4301-dffe-bb2998324f07"
      },
      "execution_count": 35,
      "outputs": [
        {
          "output_type": "execute_result",
          "data": {
            "text/plain": [
              "-1"
            ]
          },
          "metadata": {},
          "execution_count": 35
        }
      ]
    },
    {
      "cell_type": "code",
      "source": [
        "minus(y=1, x=2) # keyword argument는 파라미터 순서(position)를 지키지 않아도 됨."
      ],
      "metadata": {
        "colab": {
          "base_uri": "https://localhost:8080/"
        },
        "id": "iBp-JdCFJu6D",
        "outputId": "06c461be-fc64-48db-caf8-16b5a806aad6"
      },
      "execution_count": 36,
      "outputs": [
        {
          "output_type": "execute_result",
          "data": {
            "text/plain": [
              "1"
            ]
          },
          "metadata": {},
          "execution_count": 36
        }
      ]
    },
    {
      "cell_type": "code",
      "source": [
        "minus(1, y=2)"
      ],
      "metadata": {
        "colab": {
          "base_uri": "https://localhost:8080/"
        },
        "id": "tZhqChRLKbEq",
        "outputId": "bdf0c447-18a9-4e21-acd2-a429c80dc105"
      },
      "execution_count": 37,
      "outputs": [
        {
          "output_type": "execute_result",
          "data": {
            "text/plain": [
              "-1"
            ]
          },
          "metadata": {},
          "execution_count": 37
        }
      ]
    },
    {
      "cell_type": "code",
      "source": [
        "minus(x=1, 2) # 이건 에러남\n",
        "# keyword argument를 쓴걸 먼저 사용하면 안됨. 반드시 positional argument를 먼저 사용."
      ],
      "metadata": {
        "id": "ETMmOaM2KqGx"
      },
      "execution_count": null,
      "outputs": []
    },
    {
      "cell_type": "markdown",
      "source": [
        "# 가변길이 인수(variable_length argument)\n",
        "\n",
        "* 함수를 호출할 때, 전달하는 **아규먼트의 개수가 임의로 변할 수 있는 것.**\n",
        "  * argument 를 전달하지 않아도 됨.\n",
        "* 함수를 정의할 때 파라미터 이름 앞에 `*`를 사용하면 가변길이 인수를 전달받을 수 있음.\n",
        "* 함수 내부에서는 가변길이 인수는 튜플로 취급.\n",
        " * for-in 반복문 사용 가능.\n",
        " * 인덱스 사용 가능.\n",
        "* **(주의)**\n",
        "  * 가변 길이 인수는 keyword 방식으로는 전달할 수 없음.\n",
        "  * 함수를 정의할 때, 가변길이 인수를 갖는 파라미터는 오직 1개만 선언 가능.\n",
        "  def f(*x, *y) 이렇게 만들 수 없고, def f(*x) 이렇게 하나만 만들 수 있음."
      ],
      "metadata": {
        "id": "3IFjPw6DLZUi"
      }
    },
    {
      "cell_type": "code",
      "source": [
        "def add_all(*values):\n",
        "  total = 0\n",
        "  for x in values:\n",
        "    total += x\n",
        "\n",
        "  return total"
      ],
      "metadata": {
        "id": "VDTS7eXDNsMN"
      },
      "execution_count": 39,
      "outputs": []
    },
    {
      "cell_type": "code",
      "source": [
        "add_all()"
      ],
      "metadata": {
        "colab": {
          "base_uri": "https://localhost:8080/"
        },
        "id": "YPOISDcAf6Zj",
        "outputId": "7250086a-8867-4b40-db32-889d5000acb7"
      },
      "execution_count": 40,
      "outputs": [
        {
          "output_type": "execute_result",
          "data": {
            "text/plain": [
              "0"
            ]
          },
          "metadata": {},
          "execution_count": 40
        }
      ]
    },
    {
      "cell_type": "code",
      "source": [
        "add_all(1)"
      ],
      "metadata": {
        "colab": {
          "base_uri": "https://localhost:8080/"
        },
        "id": "XkxdLJV4gIvh",
        "outputId": "1554577a-5b9f-4dec-b5e3-72c386163079"
      },
      "execution_count": 41,
      "outputs": [
        {
          "output_type": "execute_result",
          "data": {
            "text/plain": [
              "1"
            ]
          },
          "metadata": {},
          "execution_count": 41
        }
      ]
    },
    {
      "cell_type": "code",
      "source": [
        "add_all(1, 2, 3, 4, 5)"
      ],
      "metadata": {
        "colab": {
          "base_uri": "https://localhost:8080/"
        },
        "id": "SRUVkkHMguhK",
        "outputId": "68fb8be1-0e5c-4af1-a64e-0980e1e6ac27"
      },
      "execution_count": 42,
      "outputs": [
        {
          "output_type": "execute_result",
          "data": {
            "text/plain": [
              "15"
            ]
          },
          "metadata": {},
          "execution_count": 42
        }
      ]
    },
    {
      "cell_type": "markdown",
      "source": [
        "가변길이 인수 뒤에 파라미터가 있는 경우, 그 파라미터는 keyword 방식으로만 아규먼트를 전달할 수 있음."
      ],
      "metadata": {
        "id": "sM9uN31EiZAp"
      }
    },
    {
      "cell_type": "code",
      "source": [
        "def test(*x, y):\n",
        "  print(x)\n",
        "  print(y)"
      ],
      "metadata": {
        "id": "6z9aPwUdhfDO"
      },
      "execution_count": 43,
      "outputs": []
    },
    {
      "cell_type": "code",
      "source": [
        "test(1, 2, 3, y=5)"
      ],
      "metadata": {
        "colab": {
          "base_uri": "https://localhost:8080/"
        },
        "id": "Hxo2-GFwhqZP",
        "outputId": "227f56a7-16f7-4da3-8a58-d3e2432d4f3c"
      },
      "execution_count": 45,
      "outputs": [
        {
          "output_type": "stream",
          "name": "stdout",
          "text": [
            "(1, 2, 3)\n",
            "5\n"
          ]
        }
      ]
    },
    {
      "cell_type": "code",
      "source": [
        "def keyword_only(*, x, y, z):\n",
        "  print(f'x={x}, y={y}, z={z}')"
      ],
      "metadata": {
        "id": "w4yCuZkdjEJY"
      },
      "execution_count": 47,
      "outputs": []
    },
    {
      "cell_type": "code",
      "source": [
        "keyword_only(x=1, y=2, z=3)"
      ],
      "metadata": {
        "colab": {
          "base_uri": "https://localhost:8080/"
        },
        "id": "80myYl3BjQA9",
        "outputId": "36a09315-f4e4-4433-813f-0102d64c19d0"
      },
      "execution_count": 48,
      "outputs": [
        {
          "output_type": "stream",
          "name": "stdout",
          "text": [
            "x=1, y=2, z=3\n"
          ]
        }
      ]
    },
    {
      "cell_type": "code",
      "source": [
        "print('hello')"
      ],
      "metadata": {
        "colab": {
          "base_uri": "https://localhost:8080/"
        },
        "id": "BHTIyWKPjvL1",
        "outputId": "6abe6809-1bbb-43af-ca39-1bfdaa66097b"
      },
      "execution_count": 49,
      "outputs": [
        {
          "output_type": "stream",
          "name": "stdout",
          "text": [
            "hello\n"
          ]
        }
      ]
    },
    {
      "cell_type": "code",
      "source": [
        "print(1, 2, 3, sep='-')"
      ],
      "metadata": {
        "colab": {
          "base_uri": "https://localhost:8080/"
        },
        "id": "Wl1bHW9ikvYx",
        "outputId": "acf92845-3e35-4020-c8e2-b97309d964de"
      },
      "execution_count": 50,
      "outputs": [
        {
          "output_type": "stream",
          "name": "stdout",
          "text": [
            "1-2-3\n"
          ]
        }
      ]
    },
    {
      "cell_type": "code",
      "source": [
        "print('hello', end=' ')"
      ],
      "metadata": {
        "colab": {
          "base_uri": "https://localhost:8080/"
        },
        "id": "3Ux0hlJclbsc",
        "outputId": "c4a62684-afcb-46c2-f3ed-c037e957f108"
      },
      "execution_count": 51,
      "outputs": [
        {
          "output_type": "stream",
          "name": "stdout",
          "text": [
            "hello "
          ]
        }
      ]
    },
    {
      "cell_type": "markdown",
      "source": [
        "# 가변길이 키워드 인수(variable-length keyword argument)\n",
        "\n",
        "* 함수를 정의할 때 파라미터 이름 앞에 `**`를 붙임\n",
        "* 가변길이 인수: 함수를 호출할 때 전달하는 아규먼트의 개수 제한이 없음.\n",
        "* keyword argument: 함수를 호풀할 때 반드시 `param=value` 형식으로 전달해야 함.\n",
        "* 함수 내부에서 가변길이 키워드 인수는 dict로 취급함.\n",
        "* 함수 호출할 때 파라미터 이름은 아무렇게나 전달해도 됨.\n",
        "* 가변길이 키워드 인수는 함수에서 1개만 사용 가능.\n"
      ],
      "metadata": {
        "id": "_U_tU9Nrlsdh"
      }
    },
    {
      "cell_type": "code",
      "source": [
        "def test2(**kwargs):\n",
        "  print(kwargs)"
      ],
      "metadata": {
        "id": "f_PREFzQm9LH"
      },
      "execution_count": 52,
      "outputs": []
    },
    {
      "cell_type": "code",
      "source": [
        "test2()"
      ],
      "metadata": {
        "colab": {
          "base_uri": "https://localhost:8080/"
        },
        "id": "nM74ZLs-niqI",
        "outputId": "c1b43cdd-6c2f-4a2c-9a8e-e641f075d3a7"
      },
      "execution_count": 53,
      "outputs": [
        {
          "output_type": "stream",
          "name": "stdout",
          "text": [
            "{}\n"
          ]
        }
      ]
    },
    {
      "cell_type": "code",
      "source": [
        "test2(x=1, msg='hello')"
      ],
      "metadata": {
        "colab": {
          "base_uri": "https://localhost:8080/"
        },
        "id": "O21IFRgKnl50",
        "outputId": "0566b902-3495-4d92-ec09-8631e5b51e8c"
      },
      "execution_count": 54,
      "outputs": [
        {
          "output_type": "stream",
          "name": "stdout",
          "text": [
            "{'x': 1, 'msg': 'hello'}\n"
          ]
        }
      ]
    },
    {
      "cell_type": "code",
      "source": [
        "def make_emp_info(emp_no, emp_name, **kwargs):\n",
        "  emp = {'emp_no': emp_no, 'emp_name': emp_name}\n",
        "  for  k, v in kwargs.items():\n",
        "    emp[k] = v\n",
        "\n",
        "  return emp"
      ],
      "metadata": {
        "id": "jY3MBPGwohno"
      },
      "execution_count": 55,
      "outputs": []
    },
    {
      "cell_type": "code",
      "source": [
        "make_emp_info(1, 'king')"
      ],
      "metadata": {
        "colab": {
          "base_uri": "https://localhost:8080/"
        },
        "id": "e0V8RsQxo4JN",
        "outputId": "7e022f6e-49a0-4247-ef7a-5e80a26db472"
      },
      "execution_count": 56,
      "outputs": [
        {
          "output_type": "execute_result",
          "data": {
            "text/plain": [
              "{'emp_no': 1, 'emp_name': 'king'}"
            ]
          },
          "metadata": {},
          "execution_count": 56
        }
      ]
    },
    {
      "cell_type": "code",
      "source": [
        "make_emp_info(2, '홍길동', email='gildong@test.com', dept='HR')"
      ],
      "metadata": {
        "colab": {
          "base_uri": "https://localhost:8080/"
        },
        "id": "ZbwseOCzo70W",
        "outputId": "2a73deb1-269b-4856-c92e-3dc4d00f6750"
      },
      "execution_count": 57,
      "outputs": [
        {
          "output_type": "execute_result",
          "data": {
            "text/plain": [
              "{'emp_no': 2, 'emp_name': '홍길동', 'email': 'gildong@test.com', 'dept': 'HR'}"
            ]
          },
          "metadata": {},
          "execution_count": 57
        }
      ]
    },
    {
      "cell_type": "code",
      "source": [
        "def print_msg(msg):\n",
        "  print(f'message={msg}')"
      ],
      "metadata": {
        "id": "94Ag8Wmxve3b"
      },
      "execution_count": 59,
      "outputs": []
    },
    {
      "cell_type": "code",
      "source": [
        "print_msg('안녕하세요')"
      ],
      "metadata": {
        "colab": {
          "base_uri": "https://localhost:8080/"
        },
        "id": "O1-8fFJhv6qX",
        "outputId": "7fbee0c1-66ea-4c59-fad7-3e52cf629cde"
      },
      "execution_count": 60,
      "outputs": [
        {
          "output_type": "stream",
          "name": "stdout",
          "text": [
            "message=안녕하세요\n"
          ]
        }
      ]
    },
    {
      "cell_type": "code",
      "source": [
        "print(None)"
      ],
      "metadata": {
        "colab": {
          "base_uri": "https://localhost:8080/"
        },
        "id": "2F4kCXZKw6In",
        "outputId": "b4c51b88-c34e-4fdd-9067-dfe33eef6c3f"
      },
      "execution_count": 62,
      "outputs": [
        {
          "output_type": "stream",
          "name": "stdout",
          "text": [
            "None\n"
          ]
        }
      ]
    },
    {
      "cell_type": "code",
      "source": [
        "print(print_msg('안녕하세요'))"
      ],
      "metadata": {
        "colab": {
          "base_uri": "https://localhost:8080/"
        },
        "id": "YGdwmCKBvtzg",
        "outputId": "9417ee86-b06c-4452-c56f-98409ebad6cb"
      },
      "execution_count": 61,
      "outputs": [
        {
          "output_type": "stream",
          "name": "stdout",
          "text": [
            "message=안녕하세요\n",
            "None\n"
          ]
        }
      ]
    }
  ]
}