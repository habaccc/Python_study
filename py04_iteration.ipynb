{
  "nbformat": 4,
  "nbformat_minor": 0,
  "metadata": {
    "colab": {
      "provenance": [],
      "authorship_tag": "ABX9TyOzqND+gHh25yxIjEgf80BD",
      "include_colab_link": true
    },
    "kernelspec": {
      "name": "python3",
      "display_name": "Python 3"
    },
    "language_info": {
      "name": "python"
    }
  },
  "cells": [
    {
      "cell_type": "markdown",
      "metadata": {
        "id": "view-in-github",
        "colab_type": "text"
      },
      "source": [
        "<a href=\"https://colab.research.google.com/github/habaccc/Python_study1/blob/main/py04_iteration.ipynb\" target=\"_parent\"><img src=\"https://colab.research.google.com/assets/colab-badge.svg\" alt=\"Open In Colab\"/></a>"
      ]
    },
    {
      "cell_type": "markdown",
      "source": [
        "# for 반복문\n",
        "\n",
        "```\n",
        "for 변수 in iterable_type:\n",
        "    반복해서 실행할 코드 블록\n",
        "```\n",
        "\n",
        "* iterable_ type: 반복 가능한 타입\n",
        "  * range, list, tuple, dict, set, str, ...\n",
        "* `range()` 함수:\n",
        "  * `range(stop)`: 0 <= x < stop 범위의 1씩 증가하는 정수들을 차례로 반환.\n",
        "  * `range(start, stop)` : start <= x < stop 범위의 1씩 증가하는 정수들을 차례로 반환.\n",
        "  * `range(start, stop, step)`:\n",
        "    * step > 0: start <= x < stop 범위의 step 만큼씩 증가하는 정수들을 차례로 반환.\n",
        "    * step < 0: start >= x > stop 범위의 step 만큼씩 감소하는 정수들을 차례로 반환."
      ],
      "metadata": {
        "id": "8f_myVxOM7sU"
      }
    },
    {
      "cell_type": "code",
      "source": [
        "for x in range(5): # 0 <= x < 5\n",
        "  print(x)"
      ],
      "metadata": {
        "colab": {
          "base_uri": "https://localhost:8080/"
        },
        "id": "2KoNMmI2OeWZ",
        "outputId": "2d13046d-9ff3-45f6-fd94-3a272866432a"
      },
      "execution_count": null,
      "outputs": [
        {
          "output_type": "stream",
          "name": "stdout",
          "text": [
            "0\n",
            "1\n",
            "2\n",
            "3\n",
            "4\n"
          ]
        }
      ]
    },
    {
      "cell_type": "code",
      "source": [
        "for x in range(1, 6): # 1 <= x < 6\n",
        "  print(x)"
      ],
      "metadata": {
        "colab": {
          "base_uri": "https://localhost:8080/"
        },
        "id": "VkGV44wGPB5C",
        "outputId": "6e4d55bf-f45f-4f70-84e7-f691aab4023d"
      },
      "execution_count": null,
      "outputs": [
        {
          "output_type": "stream",
          "name": "stdout",
          "text": [
            "1\n",
            "2\n",
            "3\n",
            "4\n",
            "5\n"
          ]
        }
      ]
    },
    {
      "cell_type": "code",
      "source": [
        "for x in range(0, 11, 2): # (0, 2, 4, 6, 8, 10)\n",
        "  print(x)"
      ],
      "metadata": {
        "colab": {
          "base_uri": "https://localhost:8080/"
        },
        "id": "_H1zoO0NPY1U",
        "outputId": "bf94ffd9-fdf3-4609-fe6b-93dc3beada17"
      },
      "execution_count": null,
      "outputs": [
        {
          "output_type": "stream",
          "name": "stdout",
          "text": [
            "0\n",
            "2\n",
            "4\n",
            "6\n",
            "8\n",
            "10\n"
          ]
        }
      ]
    },
    {
      "cell_type": "code",
      "source": [
        "for x in range(10, 0, -2):\n",
        "  print(x)"
      ],
      "metadata": {
        "colab": {
          "base_uri": "https://localhost:8080/"
        },
        "id": "TJZWUAiEPq8A",
        "outputId": "3dae92d3-33e8-4fe2-da84-dc5e06bef3bb"
      },
      "execution_count": null,
      "outputs": [
        {
          "output_type": "stream",
          "name": "stdout",
          "text": [
            "10\n",
            "8\n",
            "6\n",
            "4\n",
            "2\n"
          ]
        }
      ]
    },
    {
      "cell_type": "markdown",
      "source": [
        "# 중첩 반복문\n",
        "\n",
        "```\n",
        "for x in iterable1:\n",
        "  for y in iterable2:\n",
        "    실행 코드 블록\n",
        "    \n",
        "```"
      ],
      "metadata": {
        "id": "hSj-TfmKQPW7"
      }
    },
    {
      "cell_type": "markdown",
      "source": [
        "구구단 2단부터 9단까지 출력."
      ],
      "metadata": {
        "id": "fxXwrfwqQeUJ"
      }
    },
    {
      "cell_type": "code",
      "source": [
        "for x in range(2, 10):\n",
        "  print(f'{x} 단')\n",
        "  for y in range(1, 10):\n",
        "    a = x * y\n",
        "    print(f'{x} x {y} = {a}')\n",
        "  print('-' * 10)"
      ],
      "metadata": {
        "id": "QHBSnlmrQhYd"
      },
      "execution_count": null,
      "outputs": []
    },
    {
      "cell_type": "markdown",
      "source": [
        "문자열에서 사용 가능한 산술 연산자:\n",
        "\n",
        "* 문자열 `+` 문자열: 문자열 이어붙이기(cocatenate)\n",
        "* 문자열 `*` 정수: 문자열 (정수만큼) 반복해서 복사하기"
      ],
      "metadata": {
        "id": "7nDUrJJtTFy_"
      }
    },
    {
      "cell_type": "markdown",
      "source": [
        "# break와 continue\n",
        "\n",
        "* `break`: 반복(iteration)을 종료. break가 포함된 가장 가까운 반복문을 빠져나옴.\n",
        "* `continue`: 반복문 내부의 실행을 멈추고, 그 다음 iteration을 계속해서 수행."
      ],
      "metadata": {
        "id": "8D70HhO6T-C-"
      }
    },
    {
      "cell_type": "code",
      "source": [
        "for x in range(5): #(0, 1, 2, 3, 4)\n",
        "  if x == 2:\n",
        "    break\n",
        "  print(x)"
      ],
      "metadata": {
        "colab": {
          "base_uri": "https://localhost:8080/"
        },
        "id": "2snnTaaAUjUY",
        "outputId": "d7d9802e-a922-4ac4-db70-7fc40fa4a82a"
      },
      "execution_count": null,
      "outputs": [
        {
          "output_type": "stream",
          "name": "stdout",
          "text": [
            "0\n",
            "1\n"
          ]
        }
      ]
    },
    {
      "cell_type": "code",
      "source": [
        "for x in range(5): #(0, 1, 2, 3, 4)\n",
        "  if x == 2:\n",
        "    continue\n",
        "  print(x)"
      ],
      "metadata": {
        "colab": {
          "base_uri": "https://localhost:8080/"
        },
        "id": "3D3NdPrhVYv4",
        "outputId": "fcc5a20d-dffa-4c04-e54f-7f500025197d"
      },
      "execution_count": null,
      "outputs": [
        {
          "output_type": "stream",
          "name": "stdout",
          "text": [
            "0\n",
            "1\n",
            "3\n",
            "4\n"
          ]
        }
      ]
    },
    {
      "cell_type": "markdown",
      "source": [
        "다음과 같이 출력.\n",
        "\n",
        "```\n",
        "2 x 1 = 2\n",
        "2 x 2 = 4\n",
        "---------\n",
        "3 x 1 = 3\n",
        "3 x 2 = 6\n",
        "3 x 3 = 9\n",
        "---------\n",
        ".\n",
        ".\n",
        ".\n",
        "\n",
        "```"
      ],
      "metadata": {
        "id": "dqNHsBnxWT9E"
      }
    },
    {
      "cell_type": "code",
      "source": [
        "for x in range(2, 10):\n",
        "  for y in range(1, 10):\n",
        "    if x < y:\n",
        "      break\n",
        "    print(f'{x} x {y} = {x * y}')\n",
        "  print('-' * 10)"
      ],
      "metadata": {
        "colab": {
          "base_uri": "https://localhost:8080/"
        },
        "id": "JJsCXd3KWmMM",
        "outputId": "4cc46db0-15ba-4464-da01-7a75cf87247d"
      },
      "execution_count": null,
      "outputs": [
        {
          "output_type": "stream",
          "name": "stdout",
          "text": [
            "2 x 1 = 2\n",
            "2 x 2 = 4\n",
            "----------\n",
            "3 x 1 = 3\n",
            "3 x 2 = 6\n",
            "3 x 3 = 9\n",
            "----------\n",
            "4 x 1 = 4\n",
            "4 x 2 = 8\n",
            "4 x 3 = 12\n",
            "4 x 4 = 16\n",
            "----------\n",
            "5 x 1 = 5\n",
            "5 x 2 = 10\n",
            "5 x 3 = 15\n",
            "5 x 4 = 20\n",
            "5 x 5 = 25\n",
            "----------\n",
            "6 x 1 = 6\n",
            "6 x 2 = 12\n",
            "6 x 3 = 18\n",
            "6 x 4 = 24\n",
            "6 x 5 = 30\n",
            "6 x 6 = 36\n",
            "----------\n",
            "7 x 1 = 7\n",
            "7 x 2 = 14\n",
            "7 x 3 = 21\n",
            "7 x 4 = 28\n",
            "7 x 5 = 35\n",
            "7 x 6 = 42\n",
            "7 x 7 = 49\n",
            "----------\n",
            "8 x 1 = 8\n",
            "8 x 2 = 16\n",
            "8 x 3 = 24\n",
            "8 x 4 = 32\n",
            "8 x 5 = 40\n",
            "8 x 6 = 48\n",
            "8 x 7 = 56\n",
            "8 x 8 = 64\n",
            "----------\n",
            "9 x 1 = 9\n",
            "9 x 2 = 18\n",
            "9 x 3 = 27\n",
            "9 x 4 = 36\n",
            "9 x 5 = 45\n",
            "9 x 6 = 54\n",
            "9 x 7 = 63\n",
            "9 x 8 = 72\n",
            "9 x 9 = 81\n",
            "----------\n"
          ]
        }
      ]
    },
    {
      "cell_type": "code",
      "source": [
        "for x in range(2, 6):\n",
        "  for y in range(1, x + 1):\n",
        "    print(f'{x} x {y} = {x * y}')\n",
        "  print('-' * 10)"
      ],
      "metadata": {
        "colab": {
          "base_uri": "https://localhost:8080/"
        },
        "id": "L5SSErZ3cM2X",
        "outputId": "7f785ab7-f525-4c0b-97dd-3d7b73a0fb1c"
      },
      "execution_count": null,
      "outputs": [
        {
          "output_type": "stream",
          "name": "stdout",
          "text": [
            "2 x 1 = 2\n",
            "2 x 2 = 4\n",
            "----------\n",
            "3 x 1 = 3\n",
            "3 x 2 = 6\n",
            "3 x 3 = 9\n",
            "----------\n",
            "4 x 1 = 4\n",
            "4 x 2 = 8\n",
            "4 x 3 = 12\n",
            "4 x 4 = 16\n",
            "----------\n",
            "5 x 1 = 5\n",
            "5 x 2 = 10\n",
            "5 x 3 = 15\n",
            "5 x 4 = 20\n",
            "5 x 5 = 25\n",
            "----------\n"
          ]
        }
      ]
    },
    {
      "cell_type": "markdown",
      "source": [
        "# while 반복문\n",
        "\n",
        "```\n",
        "[초기화 문장]\n",
        "while 조건식:\n",
        "  반복할 코드 블록\n",
        "  [조건(변수)를 변경하는 문장]\n",
        "```"
      ],
      "metadata": {
        "id": "cyO_GjVxc92X"
      }
    },
    {
      "cell_type": "markdown",
      "source": [
        "다음과 같이 출력.\n",
        "```\n",
        "*\n",
        "**\n",
        "***\n",
        "****\n",
        "*****\n",
        "```"
      ],
      "metadata": {
        "id": "Eknps7hBdlnS"
      }
    },
    {
      "cell_type": "code",
      "source": [
        "n = 1\n",
        "while n <= 5: # while n < 6:\n",
        "  print('*' * n) # 숫자(n) 만큼 문자열'*'를 반복하겠다 라는 뜻\n",
        "  n += 1 # 파이썬은 ++, -- 연산자가 없음.\n"
      ],
      "metadata": {
        "colab": {
          "base_uri": "https://localhost:8080/"
        },
        "id": "HpJip93QdrMW",
        "outputId": "f4cbceca-f29e-4abd-d3c4-c8c2a98e9a33"
      },
      "execution_count": null,
      "outputs": [
        {
          "output_type": "stream",
          "name": "stdout",
          "text": [
            "*\n",
            "**\n",
            "***\n",
            "****\n",
            "*****\n"
          ]
        }
      ]
    },
    {
      "cell_type": "markdown",
      "source": [
        "1 이상 10 미만의 홀수들을 출력하는 코드를 while문으로 작성."
      ],
      "metadata": {
        "id": "fZJThWx1gVCN"
      }
    },
    {
      "cell_type": "code",
      "source": [
        "n = 1\n",
        "while n < 11:\n",
        "  print(n)\n",
        "  n += 2"
      ],
      "metadata": {
        "colab": {
          "base_uri": "https://localhost:8080/"
        },
        "id": "Oh6f80yNgaGz",
        "outputId": "0ee31cea-d5ea-4c2d-93c5-669007a3d2f5"
      },
      "execution_count": null,
      "outputs": [
        {
          "output_type": "stream",
          "name": "stdout",
          "text": [
            "1\n",
            "3\n",
            "5\n",
            "7\n",
            "9\n"
          ]
        }
      ]
    }
  ]
}