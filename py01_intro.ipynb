{
  "nbformat": 4,
  "nbformat_minor": 0,
  "metadata": {
    "colab": {
      "provenance": [],
      "authorship_tag": "ABX9TyPJaw/bjo2Vd6UEX665lX0A",
      "include_colab_link": true
    },
    "kernelspec": {
      "name": "python3",
      "display_name": "Python 3"
    },
    "language_info": {
      "name": "python"
    }
  },
  "cells": [
    {
      "cell_type": "markdown",
      "metadata": {
        "id": "view-in-github",
        "colab_type": "text"
      },
      "source": [
        "<a href=\"https://colab.research.google.com/github/habaccc/Python_study/blob/main/py01_intro.ipynb\" target=\"_parent\"><img src=\"https://colab.research.google.com/assets/colab-badge.svg\" alt=\"Open In Colab\"/></a>"
      ]
    },
    {
      "cell_type": "markdown",
      "source": [
        "# 파이썬 버전 확인"
      ],
      "metadata": {
        "id": "8H5wWqqZ1rN0"
      }
    },
    {
      "cell_type": "code",
      "source": [
        "!python --version"
      ],
      "metadata": {
        "colab": {
          "base_uri": "https://localhost:8080/"
        },
        "id": "-4QReYqC1wQP",
        "outputId": "36faa035-1ec9-4ada-ee99-9e2af869ef1c"
      },
      "execution_count": null,
      "outputs": [
        {
          "output_type": "stream",
          "name": "stdout",
          "text": [
            "Python 3.10.12\n"
          ]
        }
      ]
    },
    {
      "cell_type": "markdown",
      "source": [
        "코드 셀에서 명령창(command prompt)에서 실행하는 명령어를 작성하고 실행할 때는 !로 시작."
      ],
      "metadata": {
        "id": "lJOkCLSx2oxb"
      }
    },
    {
      "cell_type": "markdown",
      "source": [
        "# 파이썬 소개"
      ],
      "metadata": {
        "id": "jgkBNnjo0lqH"
      }
    },
    {
      "cell_type": "code",
      "execution_count": null,
      "metadata": {
        "colab": {
          "base_uri": "https://localhost:8080/"
        },
        "id": "01WA2ThmxxMx",
        "outputId": "24c0c3a0-96da-409d-d953-01eabab60566"
      },
      "outputs": [
        {
          "output_type": "stream",
          "name": "stdout",
          "text": [
            "안녕하세요, Python!\n"
          ]
        }
      ],
      "source": [
        "# inline comment(주석)\n",
        "print('안녕하세요, Python!') # 파이썬 문장은 세미콜론을 사용하지 않음."
      ]
    },
    {
      "cell_type": "markdown",
      "source": [
        "# 코드셀 실행 방법\n",
        "\n",
        "* 코드셀 왼쪽의 실행 버튼을 클릭.\n",
        "* Ctrl+Enter: 현재 포커스가 있는 코드셀을 실행.\n",
        "* Shift+Enter: 현재 포커스가 있는 코드셀을 실행하고, 그 다음 셀로 포커스를 이동.\n",
        "  * 현재 셀 아래에 다음 셀이 없는 경우에는 새로운 코드 셀을 만들어 줌.\n",
        "* 런타임 메뉴"
      ],
      "metadata": {
        "id": "xA2I7i88ZjKs"
      }
    },
    {
      "cell_type": "code",
      "source": [
        "print('hello, python!')"
      ],
      "metadata": {
        "id": "t3P3zJEkmWWq"
      },
      "execution_count": null,
      "outputs": []
    },
    {
      "cell_type": "markdown",
      "source": [
        "# `print()` 함수"
      ],
      "metadata": {
        "id": "4VBE5fudbZPB"
      }
    },
    {
      "cell_type": "code",
      "source": [
        "print('hello', 'python', '안녕하세요')"
      ],
      "metadata": {
        "colab": {
          "base_uri": "https://localhost:8080/"
        },
        "id": "2zNgmBS6b9XO",
        "outputId": "4bfdd646-4918-4f52-f687-2e8f58d7ac61"
      },
      "execution_count": null,
      "outputs": [
        {
          "output_type": "stream",
          "name": "stdout",
          "text": [
            "hello python 안녕하세요\n"
          ]
        }
      ]
    },
    {
      "cell_type": "markdown",
      "source": [
        "`print()` 함수에 아규먼트를 여러 개 전달하면, 아규먼트들을 공백으로 연결해서 콘솔에 출력함."
      ],
      "metadata": {
        "id": "4qIhqpjlcgE2"
      }
    },
    {
      "cell_type": "markdown",
      "source": [
        "## `format()` 메서드를 사용한 출력"
      ],
      "metadata": {
        "id": "o4tHto_obenX"
      }
    },
    {
      "cell_type": "code",
      "source": [
        "print('{} + {} = {}'.format(1, 2, 3))"
      ],
      "metadata": {
        "colab": {
          "base_uri": "https://localhost:8080/"
        },
        "id": "V1m7Neq-c4hl",
        "outputId": "2a378046-0e11-44d9-b53e-304e61d275fd"
      },
      "execution_count": null,
      "outputs": [
        {
          "output_type": "stream",
          "name": "stdout",
          "text": [
            "1 + 2 = 3\n"
          ]
        }
      ]
    },
    {
      "cell_type": "markdown",
      "source": [
        "## formatted string을 사용한 출력\n",
        "\n",
        "Python 3.6 이상의 버전에서 사용할 수 있음."
      ],
      "metadata": {
        "id": "aK_UjOkFdcYA"
      }
    },
    {
      "cell_type": "code",
      "source": [
        "# 변수이름 = 값\n",
        "x = 1\n",
        "y = 2\n",
        "print(f'{x} + {y} = {x + y}')\n",
        "\n"
      ],
      "metadata": {
        "id": "94Qkj8KBd2pF"
      },
      "execution_count": null,
      "outputs": []
    },
    {
      "cell_type": "markdown",
      "source": [
        "## ipynb 노트북에서의 콘솔 출력\n",
        "\n",
        "* 식(expression): 값(value), 변수, 연산, 함수 호출\n",
        "  * x, x + y\n",
        "* 문장(statement): 코드의 최소 실행 단위\n",
        "  * z = x + y, result = add(x, y)\n",
        "* ipynb 노트북 코드셀에서 가장 마지막 줄에 있는 문장이 식(expression)이면, 그 식을 평가한 결과를 콘솔에 출력해 줌.\n",
        "  * 마지막 줄에서는 print() 함수를 호출하지 않아도 출력됨."
      ],
      "metadata": {
        "id": "5FPOjGtmfE3n"
      }
    },
    {
      "cell_type": "code",
      "source": [
        "x = 1\n",
        "print(x)\n",
        "y = 2\n",
        "print(y)\n",
        "# print(x + y)\n",
        "x + y"
      ],
      "metadata": {
        "colab": {
          "base_uri": "https://localhost:8080/"
        },
        "id": "D-OXPqXRgixw",
        "outputId": "181c1e0c-f4cf-4acc-a268-8168dbbaa2dd"
      },
      "execution_count": null,
      "outputs": [
        {
          "output_type": "stream",
          "name": "stdout",
          "text": [
            "1\n",
            "2\n",
            "3\n"
          ]
        }
      ]
    }
  ]
}