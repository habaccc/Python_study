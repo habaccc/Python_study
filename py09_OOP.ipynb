{
  "nbformat": 4,
  "nbformat_minor": 0,
  "metadata": {
    "colab": {
      "provenance": [],
      "authorship_tag": "ABX9TyOyYtoPd+a7l6qBHAuD+zpk",
      "include_colab_link": true
    },
    "kernelspec": {
      "name": "python3",
      "display_name": "Python 3"
    },
    "language_info": {
      "name": "python"
    }
  },
  "cells": [
    {
      "cell_type": "markdown",
      "metadata": {
        "id": "view-in-github",
        "colab_type": "text"
      },
      "source": [
        "<a href=\"https://colab.research.google.com/github/habaccc/Python_study/blob/main/py09_OOP.ipynb\" target=\"_parent\"><img src=\"https://colab.research.google.com/assets/colab-badge.svg\" alt=\"Open In Colab\"/></a>"
      ]
    },
    {
      "cell_type": "markdown",
      "source": [
        "# 객체 지향 프로그래밍(OOP: Object-Oriented Programming)"
      ],
      "metadata": {
        "id": "-iEKtWqr0Hie"
      }
    },
    {
      "cell_type": "code",
      "execution_count": 18,
      "metadata": {
        "id": "dU01oSnnz-or"
      },
      "outputs": [],
      "source": [
        "class Student:\n",
        "  # 생성자 함수: 생성자를 호출하면 파이썬 인터프리터에 의해서 자동으로 호출되는 메서드.\n",
        "  def __init__(self, no, name, python, java, javascript):\n",
        "    self.no = no\n",
        "    self.name = name\n",
        "    self.python = python\n",
        "    self.java = java\n",
        "    self.javascript = javascript\n",
        "\n",
        "  def get_total(self):\n",
        "    # 파이썬의 메서드는 멤버들을 접근할 때 반드시 self 키워드를 사용해야 함.\n",
        "    return self.python + self.java + self.javascript\n",
        "\n",
        "  def get_mean(self):\n",
        "    return self.get_total() / 3\n",
        "\n",
        "  def print_info(self):\n",
        "    print(f'Student(번호={self.no}, 이름={self.name}, python={self.python}, java={self.java}, javascript={self.javascript}')\n"
      ]
    },
    {
      "cell_type": "code",
      "source": [
        "# Student 타입의 객체 생성\n",
        "student1 = Student(1, '홍길동', 100, 90, 50) # 생성자 호출: 생성자 이름 - 클래스 이름, new 키워드를 사용하지 않음."
      ],
      "metadata": {
        "id": "vm2oCTRn1-Vp"
      },
      "execution_count": 19,
      "outputs": []
    },
    {
      "cell_type": "code",
      "source": [
        "print(student1) # 객체 student1을 문자열로 출력"
      ],
      "metadata": {
        "colab": {
          "base_uri": "https://localhost:8080/"
        },
        "id": "TB73jUj_4QEn",
        "outputId": "54da8e95-7ea6-4f12-ab86-50fbdcab0928"
      },
      "execution_count": 20,
      "outputs": [
        {
          "output_type": "stream",
          "name": "stdout",
          "text": [
            "<__main__.Student object at 0x7f9e3f7c8b20>\n"
          ]
        }
      ]
    },
    {
      "cell_type": "code",
      "source": [
        "student1 # 객체 student1의 식(expression)을 출력"
      ],
      "metadata": {
        "colab": {
          "base_uri": "https://localhost:8080/"
        },
        "id": "GsEbSMe64g6U",
        "outputId": "8521bbfc-7700-4f4c-e7e9-951d8a6a59c8"
      },
      "execution_count": 21,
      "outputs": [
        {
          "output_type": "execute_result",
          "data": {
            "text/plain": [
              "<__main__.Student at 0x7f9e3f7c8b20>"
            ]
          },
          "metadata": {},
          "execution_count": 21
        }
      ]
    },
    {
      "cell_type": "code",
      "source": [
        "student1.name"
      ],
      "metadata": {
        "colab": {
          "base_uri": "https://localhost:8080/",
          "height": 35
        },
        "id": "kS6guQgL5zcp",
        "outputId": "0c7749b4-dcb5-4c0a-cdc2-befc9987b509"
      },
      "execution_count": 22,
      "outputs": [
        {
          "output_type": "execute_result",
          "data": {
            "text/plain": [
              "'홍길동'"
            ],
            "application/vnd.google.colaboratory.intrinsic+json": {
              "type": "string"
            }
          },
          "metadata": {},
          "execution_count": 22
        }
      ]
    },
    {
      "cell_type": "code",
      "source": [
        "student1.get_total()"
      ],
      "metadata": {
        "colab": {
          "base_uri": "https://localhost:8080/"
        },
        "id": "VAY8nY667hmO",
        "outputId": "56a740d1-d156-4565-9906-2ec1b2467683"
      },
      "execution_count": 23,
      "outputs": [
        {
          "output_type": "execute_result",
          "data": {
            "text/plain": [
              "240"
            ]
          },
          "metadata": {},
          "execution_count": 23
        }
      ]
    },
    {
      "cell_type": "code",
      "source": [
        "student1.get_mean()"
      ],
      "metadata": {
        "colab": {
          "base_uri": "https://localhost:8080/"
        },
        "id": "ADVncPt-9JtD",
        "outputId": "ce678960-7787-44ac-8040-2b0477578f78"
      },
      "execution_count": 24,
      "outputs": [
        {
          "output_type": "execute_result",
          "data": {
            "text/plain": [
              "80.0"
            ]
          },
          "metadata": {},
          "execution_count": 24
        }
      ]
    },
    {
      "cell_type": "code",
      "source": [
        "student1.print_info()"
      ],
      "metadata": {
        "colab": {
          "base_uri": "https://localhost:8080/"
        },
        "id": "r0VKjlCi9Nf8",
        "outputId": "4b15365c-8a4a-444b-e48f-f6f415aae414"
      },
      "execution_count": 25,
      "outputs": [
        {
          "output_type": "stream",
          "name": "stdout",
          "text": [
            "Student(번호=1, 이름=홍길동, python=100, java=90, javascript=50\n"
          ]
        }
      ]
    },
    {
      "cell_type": "code",
      "source": [
        "import math\n",
        "# math 모듈을 임포트 -> math.sqrt()"
      ],
      "metadata": {
        "id": "t-SatNABBsHa"
      },
      "execution_count": 43,
      "outputs": []
    },
    {
      "cell_type": "markdown",
      "source": [
        "* class: Point\n",
        "  * 2차원 평면의 점의 좌표 (x, y)를 표현하는 클래스\n",
        "* 생성자 함수: x, y를 초기화. x, y의 기본값은 0.\n",
        "* 메서드\n",
        "  * move: 점의 좌표를 원래 위치에서 dx, dy만큼 이동시키는 메서드\n",
        "  * distance: 두 점 간의 거리를 계산해서 리턴하는 메서드.\n",
        "    * `sqrt((x1 - x2)**2 + (y1 - y2)**2)`\n",
        "    \n",
        "  >>> $ \\\\sqrt{(x_1 - x_2)^2 + (y_1 - y_2)^2} $"
      ],
      "metadata": {
        "id": "f2V6YrBBB29V"
      }
    },
    {
      "cell_type": "code",
      "source": [
        "class Point:\n",
        "  def __init__(self, x=0, y=0):\n",
        "    self.x = x\n",
        "    self.y = y\n",
        "\n",
        "  def move(self, dx, dy):\n",
        "    self.x += dx\n",
        "    self.y += dy\n",
        "\n",
        "  def distance(self, pt): # pt를 포인트타입이라고 가정\n",
        "    return math.sqrt((self.x - pt.x) ** 2 + (self.y - pt.y) ** 2)"
      ],
      "metadata": {
        "id": "hA6Rh-j5Dxnc"
      },
      "execution_count": 44,
      "outputs": []
    },
    {
      "cell_type": "code",
      "source": [
        "pt1 = Point() # 생성자 함수의 default argument 사용\n",
        "pt1"
      ],
      "metadata": {
        "colab": {
          "base_uri": "https://localhost:8080/"
        },
        "id": "HGWX7UyJIH_c",
        "outputId": "ea9bc4d5-02bf-4725-d37d-e098932f7bf2"
      },
      "execution_count": 45,
      "outputs": [
        {
          "output_type": "execute_result",
          "data": {
            "text/plain": [
              "<__main__.Point at 0x7f9e0d9ba9b0>"
            ]
          },
          "metadata": {},
          "execution_count": 45
        }
      ]
    },
    {
      "cell_type": "code",
      "source": [
        "print(f'x={pt1.x}, y={pt1.y}')"
      ],
      "metadata": {
        "colab": {
          "base_uri": "https://localhost:8080/"
        },
        "id": "ipfndDxiIwS1",
        "outputId": "f9bfbf67-5f0f-4dc1-83d2-d412801261f1"
      },
      "execution_count": 46,
      "outputs": [
        {
          "output_type": "stream",
          "name": "stdout",
          "text": [
            "x=0, y=0\n"
          ]
        }
      ]
    },
    {
      "cell_type": "code",
      "source": [
        "pt1.move(1, 1)\n",
        "print(f'x={pt1.x}, y={pt1.y}')"
      ],
      "metadata": {
        "colab": {
          "base_uri": "https://localhost:8080/"
        },
        "id": "c6wCV0QVI5nz",
        "outputId": "1e0f4748-93a7-40c9-a4ae-874e2a1b07ff"
      },
      "execution_count": 47,
      "outputs": [
        {
          "output_type": "stream",
          "name": "stdout",
          "text": [
            "x=1, y=1\n"
          ]
        }
      ]
    },
    {
      "cell_type": "code",
      "source": [
        "pt2 = Point(1, 2)\n",
        "print(f'x={pt2.x}, y={pt2.y}')"
      ],
      "metadata": {
        "colab": {
          "base_uri": "https://localhost:8080/"
        },
        "id": "ZaGc5gbiJHo8",
        "outputId": "8c1e5dbf-36a7-4a3e-edaf-c5f67d966670"
      },
      "execution_count": 48,
      "outputs": [
        {
          "output_type": "stream",
          "name": "stdout",
          "text": [
            "x=1, y=2\n"
          ]
        }
      ]
    },
    {
      "cell_type": "code",
      "source": [
        "pt1.distance(pt2)"
      ],
      "metadata": {
        "colab": {
          "base_uri": "https://localhost:8080/"
        },
        "id": "OmfjbG76JXqn",
        "outputId": "e1030da6-2eb2-4898-d1ee-241f2e5abb43"
      },
      "execution_count": 49,
      "outputs": [
        {
          "output_type": "execute_result",
          "data": {
            "text/plain": [
              "1.0"
            ]
          },
          "metadata": {},
          "execution_count": 49
        }
      ]
    },
    {
      "cell_type": "markdown",
      "source": [
        "##magic method"
      ],
      "metadata": {
        "id": "9q8pS3DtOw4E"
      }
    },
    {
      "cell_type": "markdown",
      "source": [
        "모든 클래스가 같은 이름으로 가지고 있는 메서드.\n",
        "\n",
        "특별한 경우에 파이썬 인터프리터에 의해서 호출되는 메서드."
      ],
      "metadata": {
        "id": "JYt1c1L3O0TW"
      }
    },
    {
      "cell_type": "markdown",
      "source": [
        "* `__init__()`:\n",
        "  * 생성자를 호출하면 자동으로 호출되는 메서드.\n",
        "  * 인스턴스의 필드(프로퍼티)들을 선호하고 초기화하는 메서드.\n",
        "\n",
        "* `__str__()`:\n",
        "  * `print()` 함수의 아규먼트 객체일 때 자동으로 호출되는 메서드.\n",
        "  * 문자열을 리턴하는 메서드.\n",
        "\n",
        "* `__repr__()`: repressentation.\n",
        "  * 식(expression)을 출력할 때 자동으로 호출되는 메서드.\n",
        "  * `print()` 함수의 동작 방식:\n",
        "    * 객체를 출력하기 위해서, 그 객체의 `__str__()` 메서드를 호출함.\n",
        "    * `__str__()` 메서드가 없는 경우에는, `__repr__()` 메서드를 호출함.\n",
        "    * `__str__()` 메서드와 `__repr__()`메서드가 모두 없는 경우에는, 기본 문자열(... object at Ox ...)로 출력\n"
      ],
      "metadata": {
        "id": "FlP-sALjO2za"
      }
    },
    {
      "cell_type": "code",
      "source": [
        "class T:\n",
        "  def __str__(self): # 문자열만 리턴하면 되니까 아규먼트는 없음.\n",
        "    return 'class T instance'\n",
        "\n",
        "  def __repr__(self):\n",
        "    return 'T'"
      ],
      "metadata": {
        "id": "xyRAvdtRRbwP"
      },
      "execution_count": 55,
      "outputs": []
    },
    {
      "cell_type": "code",
      "source": [
        "t = T() # 생성자 호출 -> __init__() 메서드 호출"
      ],
      "metadata": {
        "id": "Xw0A5ZXxRzCt"
      },
      "execution_count": 56,
      "outputs": []
    },
    {
      "cell_type": "code",
      "source": [
        "print(t) # __str__() 메서드 자동 호출"
      ],
      "metadata": {
        "colab": {
          "base_uri": "https://localhost:8080/"
        },
        "id": "R5lVqZh6R-aY",
        "outputId": "2cf29a80-7f7c-43cf-b5d4-56c84b2a66de"
      },
      "execution_count": 57,
      "outputs": [
        {
          "output_type": "stream",
          "name": "stdout",
          "text": [
            "T\n"
          ]
        }
      ]
    },
    {
      "cell_type": "code",
      "source": [
        "t # __repr__() 메서드 자동 호출"
      ],
      "metadata": {
        "colab": {
          "base_uri": "https://localhost:8080/"
        },
        "id": "C0qNoKZ6SEbR",
        "outputId": "144d12a1-d74c-41d5-817f-042fca86e477"
      },
      "execution_count": 58,
      "outputs": [
        {
          "output_type": "execute_result",
          "data": {
            "text/plain": [
              "T"
            ]
          },
          "metadata": {},
          "execution_count": 58
        }
      ]
    },
    {
      "cell_type": "markdown",
      "source": [
        "`__eq__()`:\n",
        "  * `==` 연산자를 사용햇을 때 자동으로 호출되는 메서드.\n",
        "  * 두 객체가 같은 지(True) 다른 지(False)를 리턴."
      ],
      "metadata": {
        "id": "Pe8Ta7b2T_j6"
      }
    },
    {
      "cell_type": "code",
      "source": [
        "list1 = [1, 2, 3]\n",
        "list2 = [1, 2, 3]\n",
        "list1 == list2 # list 클래스가 __eq__ 메서드를 구현하고 있기 때문에."
      ],
      "metadata": {
        "colab": {
          "base_uri": "https://localhost:8080/"
        },
        "id": "_4hCuaPuUtEf",
        "outputId": "e434a262-f2af-445e-f3f3-ea3f9475c62e"
      },
      "execution_count": 59,
      "outputs": [
        {
          "output_type": "execute_result",
          "data": {
            "text/plain": [
              "True"
            ]
          },
          "metadata": {},
          "execution_count": 59
        }
      ]
    },
    {
      "cell_type": "code",
      "source": [
        "class Number:\n",
        "  def __init__(self, n):\n",
        "    self.n = n\n",
        "\n",
        "  def __repr__(self):\n",
        "    return str(self.n)\n",
        "\n",
        "  def __eq__(self, other): # 이퀄 메서드\n",
        "    return self.n == other.n"
      ],
      "metadata": {
        "id": "wnAcSVjxVHQf"
      },
      "execution_count": 65,
      "outputs": []
    },
    {
      "cell_type": "code",
      "source": [
        "n1 = Number(1)\n",
        "n1"
      ],
      "metadata": {
        "colab": {
          "base_uri": "https://localhost:8080/"
        },
        "id": "SlrfqN6iV4AJ",
        "outputId": "94532b33-b729-4473-87e9-1dbce1ed09b1"
      },
      "execution_count": 66,
      "outputs": [
        {
          "output_type": "execute_result",
          "data": {
            "text/plain": [
              "1"
            ]
          },
          "metadata": {},
          "execution_count": 66
        }
      ]
    },
    {
      "cell_type": "code",
      "source": [
        "n2 = Number(1)\n",
        "n2"
      ],
      "metadata": {
        "colab": {
          "base_uri": "https://localhost:8080/"
        },
        "id": "640Xry-mV8-4",
        "outputId": "162de698-76a5-4396-a8fe-b3bffa33387d"
      },
      "execution_count": 67,
      "outputs": [
        {
          "output_type": "execute_result",
          "data": {
            "text/plain": [
              "1"
            ]
          },
          "metadata": {},
          "execution_count": 67
        }
      ]
    },
    {
      "cell_type": "code",
      "source": [
        "n1 == n2 # 이퀄 메서드가 없으면 기본동작으로 두 리스트의 값을 비교하는게 아니라 주소값을 비교함.\n",
        "# n1.__eq__(n2)"
      ],
      "metadata": {
        "colab": {
          "base_uri": "https://localhost:8080/"
        },
        "id": "L4djMo5zWDUG",
        "outputId": "f9ee3623-840b-4863-fb91-47ce825b35ba"
      },
      "execution_count": 68,
      "outputs": [
        {
          "output_type": "execute_result",
          "data": {
            "text/plain": [
              "True"
            ]
          },
          "metadata": {},
          "execution_count": 68
        }
      ]
    },
    {
      "cell_type": "markdown",
      "source": [
        "# Exercise\n",
        "\n",
        "* class Score\n",
        "  * 프로퍼티: korean, math, science(int 타입)\n",
        "  * 메서드: `__init__`, `__repr__`, `__eq__`, `get_total`, `get_mean`\n",
        "\n",
        "* class Student\n",
        "  * 프로퍼티: no(int), name(str), score(Score)\n",
        "  * 메서드: `__init__`, `__repr__`"
      ],
      "metadata": {
        "id": "-uBtwIZGoG-1"
      }
    },
    {
      "cell_type": "code",
      "source": [
        "class Score:\n",
        "  def __init__(self, korean=0, math=0, science=0):\n",
        "    self.korean = korean\n",
        "    self.math = math\n",
        "    self.science = science\n",
        "\n",
        "  def __repr__(self):\n",
        "    return f'Score(korean : {self.korean}, math : {self.math}, science :{self.science})'\n",
        "\n",
        "  def __eq__(self, other):\n",
        "    return self.korean == other.korean and self.math == other.math and self.science == other.science\n",
        "\n",
        "  def get_total(self):\n",
        "    return self.korean + self.math + self.science\n",
        "\n",
        "  def get_mean(self):\n",
        "    return self.get_total() / 3"
      ],
      "metadata": {
        "id": "pWhTYMm9pD2B"
      },
      "execution_count": 88,
      "outputs": []
    },
    {
      "cell_type": "code",
      "source": [
        "score = Score()\n",
        "score"
      ],
      "metadata": {
        "colab": {
          "base_uri": "https://localhost:8080/"
        },
        "id": "DNClOepCwiML",
        "outputId": "5d6d4c28-794c-49ee-8ce2-d713b46996d1"
      },
      "execution_count": 95,
      "outputs": [
        {
          "output_type": "execute_result",
          "data": {
            "text/plain": [
              "Score(korean : 0, math : 0, science :0)"
            ]
          },
          "metadata": {},
          "execution_count": 95
        }
      ]
    },
    {
      "cell_type": "code",
      "source": [
        "scr1 = Score(80, 75, 90)\n",
        "scr1"
      ],
      "metadata": {
        "colab": {
          "base_uri": "https://localhost:8080/"
        },
        "id": "n6XH62_Zt4cD",
        "outputId": "92587322-efb8-4e45-f680-5c61383d2d1c"
      },
      "execution_count": 96,
      "outputs": [
        {
          "output_type": "execute_result",
          "data": {
            "text/plain": [
              "Score(korean : 80, math : 75, science :90)"
            ]
          },
          "metadata": {},
          "execution_count": 96
        }
      ]
    },
    {
      "cell_type": "code",
      "source": [
        "scr2 = Score(math=100)\n",
        "scr2"
      ],
      "metadata": {
        "colab": {
          "base_uri": "https://localhost:8080/"
        },
        "id": "vwQQkwBrw6dS",
        "outputId": "6bc39c35-7b58-4959-b1e6-03070a726058"
      },
      "execution_count": 97,
      "outputs": [
        {
          "output_type": "execute_result",
          "data": {
            "text/plain": [
              "Score(korean : 0, math : 100, science :0)"
            ]
          },
          "metadata": {},
          "execution_count": 97
        }
      ]
    },
    {
      "cell_type": "code",
      "source": [
        "scr1 == scr2"
      ],
      "metadata": {
        "colab": {
          "base_uri": "https://localhost:8080/"
        },
        "id": "1W18r5j-yEni",
        "outputId": "f888b84e-6342-4348-8df6-6c83db06a1ec"
      },
      "execution_count": 98,
      "outputs": [
        {
          "output_type": "execute_result",
          "data": {
            "text/plain": [
              "False"
            ]
          },
          "metadata": {},
          "execution_count": 98
        }
      ]
    },
    {
      "cell_type": "code",
      "source": [
        "scr4 = Score(math=75, science=90, korean=80)\n",
        "scr4"
      ],
      "metadata": {
        "colab": {
          "base_uri": "https://localhost:8080/"
        },
        "id": "PLR1lkn9yq_m",
        "outputId": "f30825f0-a8f4-4372-b103-230db5555a39"
      },
      "execution_count": 99,
      "outputs": [
        {
          "output_type": "execute_result",
          "data": {
            "text/plain": [
              "Score(korean : 80, math : 75, science :90)"
            ]
          },
          "metadata": {},
          "execution_count": 99
        }
      ]
    },
    {
      "cell_type": "code",
      "source": [
        "scr1 == scr4"
      ],
      "metadata": {
        "colab": {
          "base_uri": "https://localhost:8080/"
        },
        "id": "WUUee8wCy0Ky",
        "outputId": "967e453b-ba3a-44a2-8c75-189971c03044"
      },
      "execution_count": 100,
      "outputs": [
        {
          "output_type": "execute_result",
          "data": {
            "text/plain": [
              "True"
            ]
          },
          "metadata": {},
          "execution_count": 100
        }
      ]
    },
    {
      "cell_type": "code",
      "source": [
        "scr4.get_total()"
      ],
      "metadata": {
        "colab": {
          "base_uri": "https://localhost:8080/"
        },
        "id": "W59jDh_Cy5CA",
        "outputId": "0ff04bd1-8153-41ff-f8d9-704302172aa0"
      },
      "execution_count": 101,
      "outputs": [
        {
          "output_type": "execute_result",
          "data": {
            "text/plain": [
              "245"
            ]
          },
          "metadata": {},
          "execution_count": 101
        }
      ]
    },
    {
      "cell_type": "code",
      "source": [
        "scr4.get_mean()"
      ],
      "metadata": {
        "colab": {
          "base_uri": "https://localhost:8080/"
        },
        "id": "Yz6AVxk0zDKd",
        "outputId": "ce1c9942-a5e1-4dc4-e12b-53c1f57c26af"
      },
      "execution_count": 102,
      "outputs": [
        {
          "output_type": "execute_result",
          "data": {
            "text/plain": [
              "81.66666666666667"
            ]
          },
          "metadata": {},
          "execution_count": 102
        }
      ]
    },
    {
      "cell_type": "code",
      "source": [
        "class Student:\n",
        "  def __init__(self, no, name, score):\n",
        "    self.no = no\n",
        "    self.name = name\n",
        "    self.score = score\n",
        "\n",
        "  def __repr__(self):\n",
        "    return f'Student(No.{self.no}, name: {self.name}, score: {self.score})'"
      ],
      "metadata": {
        "id": "eZY5PBdzq3uG"
      },
      "execution_count": 105,
      "outputs": []
    },
    {
      "cell_type": "code",
      "source": [
        "stu1 = Student(1, '오쌤', scr4)\n",
        "stu1"
      ],
      "metadata": {
        "colab": {
          "base_uri": "https://localhost:8080/"
        },
        "id": "Jw_fK3VHr7Mf",
        "outputId": "1a424113-c994-49db-e17a-3370ca3f5eaa"
      },
      "execution_count": 106,
      "outputs": [
        {
          "output_type": "execute_result",
          "data": {
            "text/plain": [
              "Student(No.1, name: 오쌤, score: Score(korean : 80, math : 75, science :90))"
            ]
          },
          "metadata": {},
          "execution_count": 106
        }
      ]
    },
    {
      "cell_type": "code",
      "source": [
        "stu2 = Student(2, '홍길동', Score(80, 75, 90))\n",
        "stu2"
      ],
      "metadata": {
        "colab": {
          "base_uri": "https://localhost:8080/"
        },
        "id": "224NErRFz8xL",
        "outputId": "eded8959-a3c0-46fe-e2d6-16bea6726f9c"
      },
      "execution_count": 109,
      "outputs": [
        {
          "output_type": "execute_result",
          "data": {
            "text/plain": [
              "Student(No.2, name: 홍길동, score: Score(korean : 80, math : 75, science :90))"
            ]
          },
          "metadata": {},
          "execution_count": 109
        }
      ]
    },
    {
      "cell_type": "code",
      "source": [
        "stu1.score == stu2.score\n",
        "# stu1.score.__eq__(stu2.score)"
      ],
      "metadata": {
        "colab": {
          "base_uri": "https://localhost:8080/"
        },
        "id": "-L1hzXqe0X9K",
        "outputId": "360b024f-45ef-4f07-bedd-28ce677cdb1b"
      },
      "execution_count": 110,
      "outputs": [
        {
          "output_type": "execute_result",
          "data": {
            "text/plain": [
              "True"
            ]
          },
          "metadata": {},
          "execution_count": 110
        }
      ]
    },
    {
      "cell_type": "markdown",
      "source": [
        "# 상속(inheritance)"
      ],
      "metadata": {
        "id": "_Li_KKmG6BuC"
      }
    },
    {
      "cell_type": "markdown",
      "source": [
        "* super class(상위 클래스), parent class(부모 클래스), base class(기본 클래스)\n",
        "* sub class(하위 클래스), child class(자식 클래스), derived class(유도 클래스)\n",
        "* 상속: 상위 클래스의 속성(데이터)들과 기능(메서드)들을 하위 클래스에서 재사용하는 것.\n",
        "* 일반적으로 **IS-A** 관계가 성립하는 객체들을 상속을 사용해서 구현함.\n",
        "  * 학생은 사람이다(Student IS A Person)"
      ],
      "metadata": {
        "id": "4eqb61Sw6FOp"
      }
    },
    {
      "cell_type": "code",
      "source": [
        "class Person:\n",
        "  def __init__(self, name, age=0):\n",
        "    self.name = name\n",
        "    self.age = age\n",
        "\n",
        "  def hello(self):\n",
        "    print(f'안녕하세요, 저는 {self.name}입니다. 나이는 {self.age}입니다.')"
      ],
      "metadata": {
        "id": "iMRkmHKx7xF7"
      },
      "execution_count": 117,
      "outputs": []
    },
    {
      "cell_type": "code",
      "source": [
        "gildong = Person('홍길동')\n",
        "gildong.hello()"
      ],
      "metadata": {
        "colab": {
          "base_uri": "https://localhost:8080/"
        },
        "id": "GTXcyJMF8p7B",
        "outputId": "e81f85ab-fa4a-4c23-f57e-2e186ca28447"
      },
      "execution_count": 118,
      "outputs": [
        {
          "output_type": "stream",
          "name": "stdout",
          "text": [
            "안녕하세요, 저는 홍길동입니다. 나이는 0입니다.\n"
          ]
        }
      ]
    },
    {
      "cell_type": "code",
      "source": [
        "# Person을 상속하는 Student 클래스 정의\n",
        "class Student(Person):\n",
        "  # 생성자 method override\n",
        "  def __init__(self, name, age=0, school='Test'):\n",
        "    # 하위 클래스에서 상위 클래스의 생성자 함수를 호출:\n",
        "    super().__init__(name, age)\n",
        "    self.school = school\n",
        "\n",
        "  # hello method override\n",
        "  def hello(self):\n",
        "    super().hello()\n",
        "    print(f'학교는 {self.school}입니다. ')"
      ],
      "metadata": {
        "id": "H_zfpC3481um"
      },
      "execution_count": 131,
      "outputs": []
    },
    {
      "cell_type": "code",
      "source": [
        "student1 = Student(name='오쌤', age=16, school='아이티윌')\n",
        "\n",
        "student1.hello()\n"
      ],
      "metadata": {
        "colab": {
          "base_uri": "https://localhost:8080/"
        },
        "id": "CE_xOl_i9c9G",
        "outputId": "f73a10e1-deb0-4652-8071-7cd65534cab4"
      },
      "execution_count": 132,
      "outputs": [
        {
          "output_type": "stream",
          "name": "stdout",
          "text": [
            "안녕하세요, 저는 오쌤입니다. 나이는 16입니다.\n",
            "학교는 아이티윌입니다. \n"
          ]
        }
      ]
    },
    {
      "cell_type": "markdown",
      "source": [
        "## Method Override\n",
        "  * 상위 클래스의 메서드를 하위 클래스에서 재정의하는 것.\n",
        "    * 파이썬에서는 메서드의 이름만 같으면(파라미터 타입/개수와 상관 없이) 메서드가 재정의됨.\n",
        "      * 파이썬은 같은 이름으로 2개 이상의 메서드(함수)를 가질 수 없음. overloading을 제공하지 않음.\n",
        "    * 자바에서는 메서드이름, 파라미터 타입/개수/순서가 모두 동일한 경우에 메서드가 재정의됨.\n",
        "      * 파라미터가 다르면 같은 이름의 메서드가 2개 이상 있을 수 있음 - overloading\n",
        "    * 하위 클래스에서 재정의(override)된 상위 클래스의 메서드를 명시적으로 호출하기 위해서는 super().method_name(...)의 형식으로 호출함."
      ],
      "metadata": {
        "id": "0toLANyAEbRa"
      }
    },
    {
      "cell_type": "code",
      "source": [
        "def a():\n",
        "  print('a')"
      ],
      "metadata": {
        "id": "i355oIQtFDxR"
      },
      "execution_count": 122,
      "outputs": []
    },
    {
      "cell_type": "code",
      "source": [
        "def a(msg):\n",
        "  print(msg)"
      ],
      "metadata": {
        "id": "nu67O08wFK5h"
      },
      "execution_count": 123,
      "outputs": []
    },
    {
      "cell_type": "code",
      "source": [
        "a('test')"
      ],
      "metadata": {
        "colab": {
          "base_uri": "https://localhost:8080/"
        },
        "id": "a0qvrEtDFPO8",
        "outputId": "f9d1eeb4-9e33-4d67-8805-cd9198f2b28e"
      },
      "execution_count": 124,
      "outputs": [
        {
          "output_type": "stream",
          "name": "stdout",
          "text": [
            "test\n"
          ]
        }
      ]
    },
    {
      "cell_type": "markdown",
      "source": [
        "파이썬은 함수(메서드) 오버로디을 제공하지 않음.\n",
        "\n",
        "파라미터가 다르다고 해서 같은 이름으로 함수(메서드)를 정의할 수 없음.\n",
        "\n",
        "같은 이름으로 함수를 정의하면, 가장 마지막에서 정의한 함수만 남음.\n",
        "\n",
        "파이썬은 함수(메서드) 오버로딩 대신에, default argument를 이용하면, 같은 이름의 함수를 여러가지 방법으로 호출할 수 있음.\n",
        "\n",
        "(위 def a(): 코드처럼 만들 필요가 없음)"
      ],
      "metadata": {
        "id": "XCJBRarOGPwg"
      }
    },
    {
      "cell_type": "code",
      "source": [
        "def a(msg='a'):\n",
        "  print(msg)"
      ],
      "metadata": {
        "id": "YzlybQyyGnuR"
      },
      "execution_count": 126,
      "outputs": []
    },
    {
      "cell_type": "code",
      "source": [
        "a()"
      ],
      "metadata": {
        "colab": {
          "base_uri": "https://localhost:8080/"
        },
        "id": "znrKzFlnGtet",
        "outputId": "d3cf1f6b-6299-4105-cc7a-b28b7121a060"
      },
      "execution_count": 127,
      "outputs": [
        {
          "output_type": "stream",
          "name": "stdout",
          "text": [
            "a\n"
          ]
        }
      ]
    },
    {
      "cell_type": "code",
      "source": [
        "a('TEST')"
      ],
      "metadata": {
        "colab": {
          "base_uri": "https://localhost:8080/"
        },
        "id": "KJu1umnUGuhy",
        "outputId": "a9d92af7-b2e0-4c60-850d-e2b230215a76"
      },
      "execution_count": 128,
      "outputs": [
        {
          "output_type": "stream",
          "name": "stdout",
          "text": [
            "TEST\n"
          ]
        }
      ]
    }
  ]
}