{
  "nbformat": 4,
  "nbformat_minor": 0,
  "metadata": {
    "colab": {
      "provenance": [],
      "authorship_tag": "ABX9TyPu2LYrfQqFoNiarfxSKCJO",
      "include_colab_link": true
    },
    "kernelspec": {
      "name": "python3",
      "display_name": "Python 3"
    },
    "language_info": {
      "name": "python"
    }
  },
  "cells": [
    {
      "cell_type": "markdown",
      "metadata": {
        "id": "view-in-github",
        "colab_type": "text"
      },
      "source": [
        "<a href=\"https://colab.research.google.com/github/habaccc/Python_study/blob/main/py09_OOP.ipynb\" target=\"_parent\"><img src=\"https://colab.research.google.com/assets/colab-badge.svg\" alt=\"Open In Colab\"/></a>"
      ]
    },
    {
      "cell_type": "markdown",
      "source": [
        "# 객체 지향 프로그래밍(OOP: Object-Oriented Programming)"
      ],
      "metadata": {
        "id": "-iEKtWqr0Hie"
      }
    },
    {
      "cell_type": "code",
      "execution_count": 18,
      "metadata": {
        "id": "dU01oSnnz-or"
      },
      "outputs": [],
      "source": [
        "class Student:\n",
        "  # 생성자 함수: 생성자를 호출하면 파이썬 인터프리터에 의해서 자동으로 호출되는 메서드.\n",
        "  def __init__(self, no, name, python, java, javascript):\n",
        "    self.no = no\n",
        "    self.name = name\n",
        "    self.python = python\n",
        "    self.java = java\n",
        "    self.javascript = javascript\n",
        "\n",
        "  def get_total(self):\n",
        "    # 파이썬의 메서드는 멤버들을 접근할 때 반드시 self 키워드를 사용해야 함.\n",
        "    return self.python + self.java + self.javascript\n",
        "\n",
        "  def get_mean(self):\n",
        "    return self.get_total() / 3\n",
        "\n",
        "  def print_info(self):\n",
        "    print(f'Student(번호={self.no}, 이름={self.name}, python={self.python}, java={self.java}, javascript={self.javascript}')\n"
      ]
    },
    {
      "cell_type": "code",
      "source": [
        "# Student 타입의 객체 생성\n",
        "student1 = Student(1, '홍길동', 100, 90, 50) # 생성자 호출: 생성자 이름 - 클래스 이름, new 키워드를 사용하지 않음."
      ],
      "metadata": {
        "id": "vm2oCTRn1-Vp"
      },
      "execution_count": 19,
      "outputs": []
    },
    {
      "cell_type": "code",
      "source": [
        "print(student1) # 객체 student1을 문자열로 출력"
      ],
      "metadata": {
        "colab": {
          "base_uri": "https://localhost:8080/"
        },
        "id": "TB73jUj_4QEn",
        "outputId": "54da8e95-7ea6-4f12-ab86-50fbdcab0928"
      },
      "execution_count": 20,
      "outputs": [
        {
          "output_type": "stream",
          "name": "stdout",
          "text": [
            "<__main__.Student object at 0x7f9e3f7c8b20>\n"
          ]
        }
      ]
    },
    {
      "cell_type": "code",
      "source": [
        "student1 # 객체 student1의 식(expression)을 출력"
      ],
      "metadata": {
        "colab": {
          "base_uri": "https://localhost:8080/"
        },
        "id": "GsEbSMe64g6U",
        "outputId": "8521bbfc-7700-4f4c-e7e9-951d8a6a59c8"
      },
      "execution_count": 21,
      "outputs": [
        {
          "output_type": "execute_result",
          "data": {
            "text/plain": [
              "<__main__.Student at 0x7f9e3f7c8b20>"
            ]
          },
          "metadata": {},
          "execution_count": 21
        }
      ]
    },
    {
      "cell_type": "code",
      "source": [
        "student1.name"
      ],
      "metadata": {
        "colab": {
          "base_uri": "https://localhost:8080/",
          "height": 35
        },
        "id": "kS6guQgL5zcp",
        "outputId": "0c7749b4-dcb5-4c0a-cdc2-befc9987b509"
      },
      "execution_count": 22,
      "outputs": [
        {
          "output_type": "execute_result",
          "data": {
            "text/plain": [
              "'홍길동'"
            ],
            "application/vnd.google.colaboratory.intrinsic+json": {
              "type": "string"
            }
          },
          "metadata": {},
          "execution_count": 22
        }
      ]
    },
    {
      "cell_type": "code",
      "source": [
        "student1.get_total()"
      ],
      "metadata": {
        "colab": {
          "base_uri": "https://localhost:8080/"
        },
        "id": "VAY8nY667hmO",
        "outputId": "56a740d1-d156-4565-9906-2ec1b2467683"
      },
      "execution_count": 23,
      "outputs": [
        {
          "output_type": "execute_result",
          "data": {
            "text/plain": [
              "240"
            ]
          },
          "metadata": {},
          "execution_count": 23
        }
      ]
    },
    {
      "cell_type": "code",
      "source": [
        "student1.get_mean()"
      ],
      "metadata": {
        "colab": {
          "base_uri": "https://localhost:8080/"
        },
        "id": "ADVncPt-9JtD",
        "outputId": "ce678960-7787-44ac-8040-2b0477578f78"
      },
      "execution_count": 24,
      "outputs": [
        {
          "output_type": "execute_result",
          "data": {
            "text/plain": [
              "80.0"
            ]
          },
          "metadata": {},
          "execution_count": 24
        }
      ]
    },
    {
      "cell_type": "code",
      "source": [
        "student1.print_info()"
      ],
      "metadata": {
        "colab": {
          "base_uri": "https://localhost:8080/"
        },
        "id": "r0VKjlCi9Nf8",
        "outputId": "4b15365c-8a4a-444b-e48f-f6f415aae414"
      },
      "execution_count": 25,
      "outputs": [
        {
          "output_type": "stream",
          "name": "stdout",
          "text": [
            "Student(번호=1, 이름=홍길동, python=100, java=90, javascript=50\n"
          ]
        }
      ]
    }
  ]
}