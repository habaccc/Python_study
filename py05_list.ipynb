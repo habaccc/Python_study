{
  "nbformat": 4,
  "nbformat_minor": 0,
  "metadata": {
    "colab": {
      "provenance": [],
      "authorship_tag": "ABX9TyO/WUz4x72nZaBF+87zDpM2",
      "include_colab_link": true
    },
    "kernelspec": {
      "name": "python3",
      "display_name": "Python 3"
    },
    "language_info": {
      "name": "python"
    }
  },
  "cells": [
    {
      "cell_type": "markdown",
      "metadata": {
        "id": "view-in-github",
        "colab_type": "text"
      },
      "source": [
        "<a href=\"https://colab.research.google.com/github/habaccc/Python_study1/blob/main/py05_list.ipynb\" target=\"_parent\"><img src=\"https://colab.research.google.com/assets/colab-badge.svg\" alt=\"Open In Colab\"/></a>"
      ]
    },
    {
      "cell_type": "markdown",
      "source": [
        "# list\n",
        "\n",
        "* 여러 개의 값들을 하나의 변수에 저장하기 위한 데이터 타입.\n",
        "* element(원소, 요소): 리스트에 저장되는 각각의 값.\n",
        "* index(인덱스): 리스트에서 원소가 저장된 위치\n",
        "  * 리스트의 인덱스는 **0**부터 시작.\n",
        "  * 리스트의 마지막 인덱스는 (원소 개수 - 1).\n",
        "* 리스트는 원소들을 추가, 삭제, 변경할 수 있음.\n",
        "  * `tuble`과 다른 점!"
      ],
      "metadata": {
        "id": "pwixWXnth6_l"
      }
    },
    {
      "cell_type": "code",
      "source": [
        "# 숫자들을 저장하는 리스트\n",
        "numbers = [1, 2, 3, 10, 20, 30]\n",
        "numbers"
      ],
      "metadata": {
        "colab": {
          "base_uri": "https://localhost:8080/"
        },
        "id": "CwoamGdYjdnQ",
        "outputId": "10da3cdb-9006-4298-cc05-32f9561e9a14"
      },
      "execution_count": null,
      "outputs": [
        {
          "output_type": "execute_result",
          "data": {
            "text/plain": [
              "[1, 2, 3, 10, 20, 30]"
            ]
          },
          "metadata": {},
          "execution_count": 1
        }
      ]
    },
    {
      "cell_type": "markdown",
      "source": [
        "# 인덱싱(indexing)\n",
        "\n",
        "  인덱스를 사용해서 리스트의 원소를 참조하는 방법."
      ],
      "metadata": {
        "id": "Y6a8t80nnndb"
      }
    },
    {
      "cell_type": "code",
      "source": [
        "numbers[0] # 리스트 numbers의 인덱스 0 위치의 원소"
      ],
      "metadata": {
        "id": "N39u-wfCoFU0"
      },
      "execution_count": null,
      "outputs": []
    },
    {
      "cell_type": "code",
      "source": [
        "numbers[5] # 리스트 numbers의 인덱스 5 위치의 원소"
      ],
      "metadata": {
        "id": "kBCYZ5F3oKRj"
      },
      "execution_count": null,
      "outputs": []
    },
    {
      "cell_type": "code",
      "source": [
        "numbers[-1] # 리스트에서 가장 마지막 원소"
      ],
      "metadata": {
        "id": "gNToN9kaodnH"
      },
      "execution_count": null,
      "outputs": []
    },
    {
      "cell_type": "code",
      "source": [
        "numbers[-6]"
      ],
      "metadata": {
        "colab": {
          "base_uri": "https://localhost:8080/"
        },
        "id": "n2X-k3H9zbKt",
        "outputId": "4c624932-8c66-4de0-f56f-abf8a5a87187"
      },
      "execution_count": null,
      "outputs": [
        {
          "output_type": "execute_result",
          "data": {
            "text/plain": [
              "1"
            ]
          },
          "metadata": {},
          "execution_count": 17
        }
      ]
    },
    {
      "cell_type": "markdown",
      "source": [
        "# slicing\n",
        "\n",
        "인덱스를 사용해서 리스트의 부분집합(리스트)를 잘라내는 방법.\n",
        "\n",
        "`list[start:end]`\n",
        "\n",
        "* start <= index < end 범위의 인덱스 위치의 원소들을 잘라냄.\n",
        "* start를 생략한 경우에는 첫번째 원소부터 잘라냄.\n",
        "  * `list[0:5]`와 `list[:5]`은 같은 결과.\n",
        "* end를 생략한 경우에는 마지막 원소까지 잘라냄.\n",
        "* 리스트를 slicing한 결과는 또다른 새로운 **리스트**."
      ],
      "metadata": {
        "id": "_xb5EDvFqQPq"
      }
    },
    {
      "cell_type": "code",
      "source": [
        "numbers"
      ],
      "metadata": {
        "colab": {
          "base_uri": "https://localhost:8080/"
        },
        "id": "OEhItTqnrdz8",
        "outputId": "e7add815-ac26-4ed3-8da0-32cc728c65ab"
      },
      "execution_count": null,
      "outputs": [
        {
          "output_type": "execute_result",
          "data": {
            "text/plain": [
              "[1, 2, 3, 10, 20, 30]"
            ]
          },
          "metadata": {},
          "execution_count": 2
        }
      ]
    },
    {
      "cell_type": "code",
      "source": [
        "numbers[1:4]"
      ],
      "metadata": {
        "colab": {
          "base_uri": "https://localhost:8080/"
        },
        "id": "kxFaKyG1rgr7",
        "outputId": "92bfbe65-a12b-4c55-d275-50d2588cbf80"
      },
      "execution_count": null,
      "outputs": [
        {
          "output_type": "execute_result",
          "data": {
            "text/plain": [
              "[2, 3, 10]"
            ]
          },
          "metadata": {},
          "execution_count": 3
        }
      ]
    },
    {
      "cell_type": "code",
      "source": [
        "numbers[3:6]"
      ],
      "metadata": {
        "colab": {
          "base_uri": "https://localhost:8080/"
        },
        "id": "MZQlqQwIsxDi",
        "outputId": "9f6a2e8c-1b19-4bdc-e1eb-5872ae784d30"
      },
      "execution_count": null,
      "outputs": [
        {
          "output_type": "execute_result",
          "data": {
            "text/plain": [
              "[10, 20, 30]"
            ]
          },
          "metadata": {},
          "execution_count": 5
        }
      ]
    },
    {
      "cell_type": "code",
      "source": [
        "numbers[3:]"
      ],
      "metadata": {
        "colab": {
          "base_uri": "https://localhost:8080/"
        },
        "id": "C1GySJx1szNp",
        "outputId": "29c3fa39-b3cf-4677-92ab-90a26f395757"
      },
      "execution_count": null,
      "outputs": [
        {
          "output_type": "execute_result",
          "data": {
            "text/plain": [
              "[10, 20, 30]"
            ]
          },
          "metadata": {},
          "execution_count": 4
        }
      ]
    },
    {
      "cell_type": "code",
      "source": [
        "numbers[:3] # 리스트에서 앞에서 3개를 선택"
      ],
      "metadata": {
        "colab": {
          "base_uri": "https://localhost:8080/"
        },
        "id": "t7Kw3ZIItIXL",
        "outputId": "3f388a6f-a0ab-487c-dc4a-67ffb9d98fe2"
      },
      "execution_count": null,
      "outputs": [
        {
          "output_type": "execute_result",
          "data": {
            "text/plain": [
              "[1, 2, 3]"
            ]
          },
          "metadata": {},
          "execution_count": 6
        }
      ]
    },
    {
      "cell_type": "code",
      "source": [
        "numbers[-3:] # 리스트에서 뒤에서 3개"
      ],
      "metadata": {
        "colab": {
          "base_uri": "https://localhost:8080/"
        },
        "id": "fL1LfpFCtajC",
        "outputId": "68369930-a904-49a8-d295-5e55457f319f"
      },
      "execution_count": null,
      "outputs": [
        {
          "output_type": "execute_result",
          "data": {
            "text/plain": [
              "[10, 20, 30]"
            ]
          },
          "metadata": {},
          "execution_count": 8
        }
      ]
    },
    {
      "cell_type": "code",
      "source": [
        "numbers[0:1]"
      ],
      "metadata": {
        "colab": {
          "base_uri": "https://localhost:8080/"
        },
        "id": "I4XaLXjsuTdj",
        "outputId": "537164d5-6bab-40be-8a9e-576e579b1fe0"
      },
      "execution_count": null,
      "outputs": [
        {
          "output_type": "execute_result",
          "data": {
            "text/plain": [
              "[1]"
            ]
          },
          "metadata": {},
          "execution_count": 9
        }
      ]
    },
    {
      "cell_type": "code",
      "source": [
        "numbers[0]"
      ],
      "metadata": {
        "colab": {
          "base_uri": "https://localhost:8080/"
        },
        "id": "sM_7JLoNzi0X",
        "outputId": "57f38e81-c2a6-4dd6-e533-2043a2c8640c"
      },
      "execution_count": null,
      "outputs": [
        {
          "output_type": "execute_result",
          "data": {
            "text/plain": [
              "1"
            ]
          },
          "metadata": {},
          "execution_count": 18
        }
      ]
    },
    {
      "cell_type": "markdown",
      "source": [
        "# 문자열(str)\n",
        "\n",
        "* 문자들의 *리스트*\n",
        "* 문자열은 인덱스를 사용할 수 있음.\n",
        "*indexing, slicing 가능."
      ],
      "metadata": {
        "id": "qPI1OYygvSwz"
      }
    },
    {
      "cell_type": "code",
      "source": [
        "message = '안녕하세요, 여러분!' # 11개의 문자들로 이루어진 리스트."
      ],
      "metadata": {
        "id": "7gWzAgQfvdzY"
      },
      "execution_count": null,
      "outputs": []
    },
    {
      "cell_type": "code",
      "source": [
        "message[0] # 문자열에서 첫번째 문자"
      ],
      "metadata": {
        "colab": {
          "base_uri": "https://localhost:8080/",
          "height": 35
        },
        "id": "vjG5kN62wBgl",
        "outputId": "b9c495a4-9737-43f3-d09c-e474e8e9fae1"
      },
      "execution_count": null,
      "outputs": [
        {
          "output_type": "execute_result",
          "data": {
            "text/plain": [
              "'안'"
            ],
            "application/vnd.google.colaboratory.intrinsic+json": {
              "type": "string"
            }
          },
          "metadata": {},
          "execution_count": 11
        }
      ]
    },
    {
      "cell_type": "code",
      "source": [
        "message[-1] # 문자열에서 마지막 문자"
      ],
      "metadata": {
        "colab": {
          "base_uri": "https://localhost:8080/",
          "height": 35
        },
        "id": "JTUH_u9FwC8k",
        "outputId": "c4895ac9-02b4-40bb-bc8f-5d0c5f1dfc99"
      },
      "execution_count": null,
      "outputs": [
        {
          "output_type": "execute_result",
          "data": {
            "text/plain": [
              "'!'"
            ],
            "application/vnd.google.colaboratory.intrinsic+json": {
              "type": "string"
            }
          },
          "metadata": {},
          "execution_count": 12
        }
      ]
    },
    {
      "cell_type": "code",
      "source": [
        "message[:3] # 문자열에서 앞에서 3글자"
      ],
      "metadata": {
        "colab": {
          "base_uri": "https://localhost:8080/",
          "height": 35
        },
        "id": "i-u5Wn4dwJI2",
        "outputId": "89cde97f-b7a1-4fe9-d517-11d68f0e57dc"
      },
      "execution_count": null,
      "outputs": [
        {
          "output_type": "execute_result",
          "data": {
            "text/plain": [
              "'안녕하'"
            ],
            "application/vnd.google.colaboratory.intrinsic+json": {
              "type": "string"
            }
          },
          "metadata": {},
          "execution_count": 13
        }
      ]
    },
    {
      "cell_type": "code",
      "source": [
        "message[-3:] # 문자열에서 뒤에서 3글자"
      ],
      "metadata": {
        "colab": {
          "base_uri": "https://localhost:8080/",
          "height": 35
        },
        "id": "WGzqkCEDwkNc",
        "outputId": "d683cfcb-4ca1-4486-9b06-8eb86097321c"
      },
      "execution_count": null,
      "outputs": [
        {
          "output_type": "execute_result",
          "data": {
            "text/plain": [
              "'러분!'"
            ],
            "application/vnd.google.colaboratory.intrinsic+json": {
              "type": "string"
            }
          },
          "metadata": {},
          "execution_count": 14
        }
      ]
    },
    {
      "cell_type": "code",
      "source": [
        "# 문자열 산술 연산\n",
        "print('hello' + 'python')\n",
        "print('hello' * 3)"
      ],
      "metadata": {
        "colab": {
          "base_uri": "https://localhost:8080/"
        },
        "id": "LpE8eGO7xP0q",
        "outputId": "dca9be44-f772-4888-eda0-76d4e5644013"
      },
      "execution_count": null,
      "outputs": [
        {
          "output_type": "stream",
          "name": "stdout",
          "text": [
            "hellopython\n",
            "hellohellohello\n"
          ]
        }
      ]
    },
    {
      "cell_type": "markdown",
      "source": [
        "# 리스트의 산술 연산\n",
        "\n",
        "* `list + list`\n",
        "* `list + int` 또는 `int + list`"
      ],
      "metadata": {
        "id": "ILtinUahxQ4T"
      }
    },
    {
      "cell_type": "code",
      "source": [
        "[1, 2, 3] + [4, 5, 6] # concatenate"
      ],
      "metadata": {
        "colab": {
          "base_uri": "https://localhost:8080/"
        },
        "id": "MG6s4a7Uxf7P",
        "outputId": "da835dd3-8585-4c1d-969a-854976cabb0f"
      },
      "execution_count": null,
      "outputs": [
        {
          "output_type": "execute_result",
          "data": {
            "text/plain": [
              "[1, 2, 3, 4, 5, 6]"
            ]
          },
          "metadata": {},
          "execution_count": 15
        }
      ]
    },
    {
      "cell_type": "code",
      "source": [
        "[1, 2, 3] * 3"
      ],
      "metadata": {
        "colab": {
          "base_uri": "https://localhost:8080/"
        },
        "id": "fRAw3G6XxuRb",
        "outputId": "8bc6ab0b-b10e-425c-9064-e1104539480a"
      },
      "execution_count": null,
      "outputs": [
        {
          "output_type": "execute_result",
          "data": {
            "text/plain": [
              "[1, 2, 3, 1, 2, 3, 1, 2, 3]"
            ]
          },
          "metadata": {},
          "execution_count": 16
        }
      ]
    },
    {
      "cell_type": "code",
      "source": [],
      "metadata": {
        "id": "eEkL5p1Jxx2J"
      },
      "execution_count": null,
      "outputs": []
    },
    {
      "cell_type": "markdown",
      "source": [
        "# list와 for 반복문"
      ],
      "metadata": {
        "id": "iLxcfKPy2DSC"
      }
    },
    {
      "cell_type": "code",
      "source": [
        "for x in 'hello':\n",
        "  print(x)"
      ],
      "metadata": {
        "colab": {
          "base_uri": "https://localhost:8080/"
        },
        "id": "a5HWMLD72XJj",
        "outputId": "c944d37e-320c-4af4-b84d-9f76fe71376c"
      },
      "execution_count": null,
      "outputs": [
        {
          "output_type": "stream",
          "name": "stdout",
          "text": [
            "h\n",
            "e\n",
            "l\n",
            "l\n",
            "o\n"
          ]
        }
      ]
    },
    {
      "cell_type": "code",
      "source": [
        "numbers = [1, 10, 5, 100] # 순서대로 값만 찾을 때\n",
        "for x in numbers:\n",
        "  print(x)"
      ],
      "metadata": {
        "colab": {
          "base_uri": "https://localhost:8080/"
        },
        "id": "2u-lKHYN2shY",
        "outputId": "c714aca6-25b3-4a95-e05e-0917f3f7a0f6"
      },
      "execution_count": null,
      "outputs": [
        {
          "output_type": "stream",
          "name": "stdout",
          "text": [
            "1\n",
            "10\n",
            "5\n",
            "100\n"
          ]
        }
      ]
    },
    {
      "cell_type": "code",
      "source": [
        "for i in range(len(numbers)): # 0 <= x < len\n",
        "  print(i, ':', numbers[i])"
      ],
      "metadata": {
        "colab": {
          "base_uri": "https://localhost:8080/"
        },
        "id": "tfS-H2zK4YJh",
        "outputId": "2e8d2c9b-2520-41df-e172-4371045f06ed"
      },
      "execution_count": null,
      "outputs": [
        {
          "output_type": "stream",
          "name": "stdout",
          "text": [
            "0 : 1\n",
            "1 : 10\n",
            "2 : 5\n",
            "3 : 100\n"
          ]
        }
      ]
    },
    {
      "cell_type": "code",
      "source": [
        "for i, v in enumerate(numbers): # 인덱스와 값을 같이 찾을 때\n",
        "  print(i, ':', v)"
      ],
      "metadata": {
        "colab": {
          "base_uri": "https://localhost:8080/"
        },
        "id": "Qo3ky0GS4cOl",
        "outputId": "7c576258-1385-4968-ee1f-9c49d8e5b5a0"
      },
      "execution_count": null,
      "outputs": [
        {
          "output_type": "stream",
          "name": "stdout",
          "text": [
            "0 : 1\n",
            "1 : 10\n",
            "2 : 5\n",
            "3 : 100\n"
          ]
        }
      ]
    },
    {
      "cell_type": "code",
      "source": [
        "numbers1 = [1, 2, 3]\n",
        "numbers2 = [10, 11, 12]\n",
        "# numbers1과 numbers2의 같은 인덱스의 원소들끼리의 합을 원소로 갖는 리스트\n",
        "# [11, 13, 15]\n",
        "result = [] # 빈(empty) 리스트\n",
        "for i in range(len(numbers1)): # 0 <= i < len\n",
        "  result.append(numbers1[i] + numbers2[i])\n",
        "result\n"
      ],
      "metadata": {
        "colab": {
          "base_uri": "https://localhost:8080/"
        },
        "id": "1y7wksvn54cm",
        "outputId": "f4b7f7cd-aa8f-4bc9-94c2-f038a8428e34"
      },
      "execution_count": null,
      "outputs": [
        {
          "output_type": "execute_result",
          "data": {
            "text/plain": [
              "[11, 13, 15]"
            ]
          },
          "metadata": {},
          "execution_count": 31
        }
      ]
    },
    {
      "cell_type": "code",
      "source": [
        "result = []\n",
        "for x, y in zip(numbers1, numbers2): # zip: 같은 위치에 있는 것 끼리 묶어줌\n",
        "  result.append(x + y)\n",
        "result"
      ],
      "metadata": {
        "colab": {
          "base_uri": "https://localhost:8080/"
        },
        "id": "4CyZKbS38i3v",
        "outputId": "af952973-68d1-4b7d-967e-bc692765ad9c"
      },
      "execution_count": null,
      "outputs": [
        {
          "output_type": "execute_result",
          "data": {
            "text/plain": [
              "[11, 13, 15]"
            ]
          },
          "metadata": {},
          "execution_count": 33
        }
      ]
    },
    {
      "cell_type": "markdown",
      "source": [
        "파이썬에 난수를 만드는 방법:"
      ],
      "metadata": {
        "id": "w2LGueLt-HYM"
      }
    },
    {
      "cell_type": "code",
      "source": [
        "import random # random 모듈을 임포트"
      ],
      "metadata": {
        "id": "aSatYoPn-KQt"
      },
      "execution_count": 2,
      "outputs": []
    },
    {
      "cell_type": "code",
      "source": [
        "# random 모듈의 random() 함수를 호출\n",
        "random.random() # [0, 1) 범위(0 <= x < 1)의 실수 난수를 리턴."
      ],
      "metadata": {
        "colab": {
          "base_uri": "https://localhost:8080/"
        },
        "id": "sPEq-4F0-dBd",
        "outputId": "072e94d9-8166-4467-a076-a00e6d37b189"
      },
      "execution_count": null,
      "outputs": [
        {
          "output_type": "execute_result",
          "data": {
            "text/plain": [
              "0.582771670419184"
            ]
          },
          "metadata": {},
          "execution_count": 41
        }
      ]
    },
    {
      "cell_type": "code",
      "source": [
        "# random 모듈의 randrange() 함수를 호출\n",
        "random.randrange(3) # [0, 3) 범위의 정수 난수를 리턴."
      ],
      "metadata": {
        "colab": {
          "base_uri": "https://localhost:8080/"
        },
        "id": "naTD-Rm7_Okb",
        "outputId": "c2d3fdfe-b39d-45d4-b9cd-6b7453325a2e"
      },
      "execution_count": null,
      "outputs": [
        {
          "output_type": "execute_result",
          "data": {
            "text/plain": [
              "1"
            ]
          },
          "metadata": {},
          "execution_count": 42
        }
      ]
    },
    {
      "cell_type": "code",
      "source": [
        "random.randrange(1, 4) #[1, 4) 범위의 정수 난수를 리턴."
      ],
      "metadata": {
        "colab": {
          "base_uri": "https://localhost:8080/"
        },
        "id": "_o83GWIi_lNp",
        "outputId": "c4274453-c37d-4311-9fe4-211654f66856"
      },
      "execution_count": null,
      "outputs": [
        {
          "output_type": "execute_result",
          "data": {
            "text/plain": [
              "3"
            ]
          },
          "metadata": {},
          "execution_count": 46
        }
      ]
    },
    {
      "cell_type": "markdown",
      "source": [
        "## Exercises\n",
        "### Ex 1.\n",
        "1. 빈 리스트를 생성\n",
        "2. 1 이상 10 이하의 정수 난수 5개를 저장.\n",
        "3. 리스트의 모든 정수들의 합을 출력.\n",
        "4. 리스트의 모든 정수들의 평균을 출력."
      ],
      "metadata": {
        "id": "8DCbpQjhDEE_"
      }
    },
    {
      "cell_type": "code",
      "source": [
        "# Ex.1\n",
        "a = []\n",
        "for _ in range(5):\n",
        "  a.append(random.randint(1, 10)) # random.randrange(1, 11) 로 해도 됨.\n",
        "print(a)\n",
        "\n",
        "total = 0\n",
        "for i in range(len(a)):\n",
        "  total = total + a[i]\n",
        "  average = total / len(a)\n",
        "print(f'total: {total}')\n",
        "print(f'average: {average}')\n"
      ],
      "metadata": {
        "colab": {
          "base_uri": "https://localhost:8080/"
        },
        "id": "2QKUuUMhD3B8",
        "outputId": "4c2bdcdd-27df-4b60-8239-82c0a2c43359"
      },
      "execution_count": 3,
      "outputs": [
        {
          "output_type": "stream",
          "name": "stdout",
          "text": [
            "[4, 3, 9, 8, 10]\n",
            "total: 34\n",
            "average: 6.8\n"
          ]
        }
      ]
    },
    {
      "cell_type": "code",
      "source": [
        "numbers = [random.randrange(1, 11) for _ in range(5)]\n",
        "\n",
        "print(numbers)\n",
        "\n",
        "total = sum(numbers)\n",
        "# total = 0\n",
        "# for x in numbers:\n",
        "#   total += x\n",
        "\n",
        "average = total / len(numbers)\n",
        "\n",
        "print(f'total: {total}')\n",
        "print(f'average: {average}')\n"
      ],
      "metadata": {
        "colab": {
          "base_uri": "https://localhost:8080/"
        },
        "id": "tPF1yk-ZvrgN",
        "outputId": "87cc5ba7-986f-47e3-b89b-9177046b2edc"
      },
      "execution_count": 19,
      "outputs": [
        {
          "output_type": "stream",
          "name": "stdout",
          "text": [
            "[2, 4, 3, 5, 6]\n",
            "total: 20\n",
            "average: 4.0\n"
          ]
        }
      ]
    },
    {
      "cell_type": "markdown",
      "source": [
        "### Ex 2.\n",
        "1. 빈 리스트(numbers)를 생성.\n",
        "2. 10 이상, 100 미만의 정수 난수 10개를 numbers에 저장.\n",
        "3. numbers에서 짝수들만 선택해서 evens 리스트를 만들고 출력.\n",
        "4. numbers에서 홀수들만 선택해서 odds 리스트를 만들고 출력."
      ],
      "metadata": {
        "id": "lFryVOc4D-op"
      }
    },
    {
      "cell_type": "code",
      "source": [
        "# Ex.2\n",
        "numbers = []\n",
        "\n",
        "for _ in range(10):\n",
        "  numbers.append(random.randint(10, 99))\n",
        "print(numbers)\n",
        "\n",
        "evens = []\n",
        "odds = []\n",
        "\n",
        "for x in numbers: # 리스트를 numbers의 원소들을 순서대로 반복하면서\n",
        "  if x % 2 == 0: # 리스트에서 찾은 값을 2로 나눈 나머지가 0이면 (짝수)\n",
        "    evens.append(x)\n",
        "  else:\n",
        "    odds.append(x)\n",
        "\n",
        "print(f'evens: {evens}')\n",
        "print(f'odds: {odds}')\n"
      ],
      "metadata": {
        "colab": {
          "base_uri": "https://localhost:8080/"
        },
        "id": "GvRHETNZG5FH",
        "outputId": "7c27e270-9e19-47aa-e3fb-f63754d53a55"
      },
      "execution_count": 4,
      "outputs": [
        {
          "output_type": "stream",
          "name": "stdout",
          "text": [
            "[32, 53, 97, 42, 82, 93, 54, 14, 26, 52]\n",
            "evens: [32, 42, 82, 54, 14, 26, 52]\n",
            "odds: [53, 97, 93]\n"
          ]
        }
      ]
    },
    {
      "cell_type": "code",
      "source": [
        "numbers = [random.randrange(10, 100) for _ in range(10)]\n",
        "print(numbers)\n",
        "\n",
        "evens = [x for x in numbers if x % 2 == 0]\n",
        "odds = [x for x in numbers if x % 2 == 1]\n",
        "\n",
        "print(f'evens: {evens}')\n",
        "print(f'odds: {odds}')"
      ],
      "metadata": {
        "colab": {
          "base_uri": "https://localhost:8080/"
        },
        "id": "b0qrN7DCx4pK",
        "outputId": "29f8be5a-c587-49b7-efff-93d2b74a2b63"
      },
      "execution_count": 20,
      "outputs": [
        {
          "output_type": "stream",
          "name": "stdout",
          "text": [
            "[90, 38, 49, 82, 43, 60, 31, 34, 61, 76]\n",
            "evens: [90, 38, 82, 60, 34, 76]\n",
            "odds: [49, 43, 31, 61]\n"
          ]
        }
      ]
    },
    {
      "cell_type": "markdown",
      "source": [
        "### Ex 3.\n",
        "1. 빈 리스트 numbers를 만듦.\n",
        "2. -10 이상 10 이하인 범위의 정수 난수 10개를 numbers에 저장.\n",
        "3. numbers의 원소가 양수이면 True, 그렇지 않으면 False를 저장하는 is_positive 리스트를 만들고 출력."
      ],
      "metadata": {
        "id": "nRG6w7ohEDUR"
      }
    },
    {
      "cell_type": "code",
      "source": [
        "# Ex.3\n",
        "numbers = []\n",
        "\n",
        "for _ in range(10):\n",
        "  numbers.append(random.randint(-10, 10))\n",
        "print(numbers)\n",
        "\n",
        "is_positive = []\n",
        "\n",
        "for x in numbers:\n",
        "  if x > 0:\n",
        "    is_positive.append(True)\n",
        "  else:\n",
        "    is_positive.append(False)\n",
        "\n",
        "print(f'is_positive: {is_positive}')\n"
      ],
      "metadata": {
        "colab": {
          "base_uri": "https://localhost:8080/"
        },
        "id": "Y6ygZJoxIatO",
        "outputId": "e922ed28-6bb6-4a90-e13c-5afadd53c36e"
      },
      "execution_count": 8,
      "outputs": [
        {
          "output_type": "stream",
          "name": "stdout",
          "text": [
            "[5, 9, -1, 1, -7, 0, 6, -8, 0, 0]\n",
            "is_positive: [True, True, False, True, False, False, True, False, False, False]\n"
          ]
        }
      ]
    },
    {
      "cell_type": "code",
      "source": [
        "numbers = [random.randrange(-10, 11) for _ in range(10)]\n",
        "print(numbers)\n",
        "\n",
        "is_positive = [True if x > 0 else False for x in numbers]\n",
        "is_positive"
      ],
      "metadata": {
        "colab": {
          "base_uri": "https://localhost:8080/"
        },
        "id": "oT4V1B4JzDNs",
        "outputId": "6f34e28a-4175-4217-dc23-5022a8721fbb"
      },
      "execution_count": 23,
      "outputs": [
        {
          "output_type": "stream",
          "name": "stdout",
          "text": [
            "[-9, 2, 6, 1, 7, 6, 4, -3, 6, -6]\n"
          ]
        },
        {
          "output_type": "execute_result",
          "data": {
            "text/plain": [
              "[False, True, True, True, True, True, True, False, True, False]"
            ]
          },
          "metadata": {},
          "execution_count": 23
        }
      ]
    },
    {
      "cell_type": "markdown",
      "source": [
        "### Ex 4.\n",
        "1. gender_codes 리스트에 0 또는 1을 랜덤하게 10개를 저장.\n",
        "2. gender_codes의 값이 0이면 'Male', 그렇지 않으며 'Female'을 저장하는 genders 리스트를 만들고 출력."
      ],
      "metadata": {
        "id": "5WYEKf27EHzh"
      }
    },
    {
      "cell_type": "code",
      "source": [
        "# Ex.4\n",
        "gender_codes = []\n",
        "\n",
        "for _ in range(10):\n",
        "  gender_codes.append(random.randint(0, 1))\n",
        "print(gender_codes)\n",
        "\n",
        "genders = []\n",
        "\n",
        "for x in gender_codes:\n",
        "  if x == 0:\n",
        "    genders.append('Male')\n",
        "  else:\n",
        "    genders.append('Female')\n",
        "\n",
        "print(f'genders: {genders}')\n"
      ],
      "metadata": {
        "colab": {
          "base_uri": "https://localhost:8080/"
        },
        "id": "_8uPXqVOzPgO",
        "outputId": "e551e12a-47c1-47c3-deea-2e78716be714"
      },
      "execution_count": null,
      "outputs": [
        {
          "output_type": "stream",
          "name": "stdout",
          "text": [
            "[1, 0, 0, 1, 1, 0, 1, 0, 0, 0]\n",
            "genders: ['Female', 'Male', 'Male', 'Female', 'Female', 'Male', 'Female', 'Male', 'Male', 'Male']\n"
          ]
        }
      ]
    },
    {
      "cell_type": "code",
      "source": [
        "gender_codes = [random.randrange(0, 2) for _ in range(10)]\n",
        "print(gender_codes)\n",
        "\n",
        "genders = ['Male' if x == 0 else 'Female' for x in gender_codes]\n",
        "genders"
      ],
      "metadata": {
        "colab": {
          "base_uri": "https://localhost:8080/"
        },
        "id": "vF3_B1xL0Ji0",
        "outputId": "f8afdb27-3e2d-4065-8ea6-6419d24ece2c"
      },
      "execution_count": 25,
      "outputs": [
        {
          "output_type": "stream",
          "name": "stdout",
          "text": [
            "[1, 0, 1, 0, 1, 1, 0, 0, 1, 1]\n"
          ]
        },
        {
          "output_type": "execute_result",
          "data": {
            "text/plain": [
              "['Female',\n",
              " 'Male',\n",
              " 'Female',\n",
              " 'Male',\n",
              " 'Female',\n",
              " 'Female',\n",
              " 'Male',\n",
              " 'Male',\n",
              " 'Female',\n",
              " 'Female']"
            ]
          },
          "metadata": {},
          "execution_count": 25
        }
      ]
    },
    {
      "cell_type": "code",
      "source": [
        "gender_codes = [1, 2, 1, 2, 3]\n",
        "# 1 -> 'M', 2 -> 'F', 3 -> 'Unknown' mapping\n",
        "genders = ['M' if x == 1 else ('F' if x == 2 else 'Unknown') for x in gender_codes]\n",
        "genders"
      ],
      "metadata": {
        "colab": {
          "base_uri": "https://localhost:8080/"
        },
        "id": "LSpRUrlEA6SM",
        "outputId": "14a49aa2-47ea-44e5-e007-a0af67522a9b"
      },
      "execution_count": 29,
      "outputs": [
        {
          "output_type": "execute_result",
          "data": {
            "text/plain": [
              "['M', 'F', 'M', 'F', 'Unknown']"
            ]
          },
          "metadata": {},
          "execution_count": 29
        }
      ]
    },
    {
      "cell_type": "markdown",
      "source": [
        "### Ex 5.\n",
        "1. numbers1: 100 미만의 정수 난수 10개를 저장하는 리스트.\n",
        "2. numbers2: 100 미만의 정수 난수 10개를 저장하는 리스트.\n",
        "3. multiplication: numbers1과 numbers2의 같은 인덱스에 있는 원소들끼리의 곱셈 결과를 저장하는 리스트.\n",
        "4. subtraction: numbers1의 원소에서 같은 인덱스에 있는 numbers2의 원소를 뺀 값을 저장하는 리스트.\n",
        "\n",
        "numbers1, numbers2, multiplication, subtraction를 출력."
      ],
      "metadata": {
        "id": "jNXMmS-8EMUs"
      }
    },
    {
      "cell_type": "code",
      "source": [
        "# Ex.5\n",
        "numbers1 = []\n",
        "numbers2 = []\n",
        "\n",
        "for _ in range(10):\n",
        "  numbers1.append(random.randint(0, 99))\n",
        "  numbers2.append(random.randint(0, 99))\n",
        "\n",
        "print(f'numbers1: {numbers1}')\n",
        "print(f'numbers2: {numbers2}')\n",
        "\n",
        "multiplication = []\n",
        "subtraction = []\n",
        "\n",
        "for x, y in zip(numbers1, numbers2):\n",
        "  multiplication.append(x * y)\n",
        "  subtraction.append(x - y)\n",
        "\n",
        "print(f'multiplication: {multiplication}')\n",
        "print(f'subtraction: {subtraction}')\n"
      ],
      "metadata": {
        "id": "L6NLfMDlD28m",
        "colab": {
          "base_uri": "https://localhost:8080/"
        },
        "outputId": "244eb30f-af68-4fa6-cf9c-e81cc16c5311"
      },
      "execution_count": 9,
      "outputs": [
        {
          "output_type": "stream",
          "name": "stdout",
          "text": [
            "numbers1: [21, 58, 60, 23, 34, 32, 3, 16, 93, 9]\n",
            "numbers2: [36, 1, 35, 92, 69, 16, 13, 63, 79, 59]\n",
            "multiplication: [756, 58, 2100, 2116, 2346, 512, 39, 1008, 7347, 531]\n",
            "subtraction: [-15, 57, 25, -69, -35, 16, -10, -47, 14, -50]\n"
          ]
        }
      ]
    },
    {
      "cell_type": "code",
      "source": [
        "numbers1 = [random.randrange(0, 100) for _ in range(10)]\n",
        "numbers2 = [random.randrange(0, 100) for _ in range(10)]\n",
        "\n",
        "print(f'numbers1: {numbers1}')\n",
        "print(f'numbers2: {numbers2}')\n",
        "\n",
        "multiplication = [x * y for x, y in zip(numbers1, numbers2)]\n",
        "subtraction = [x - y for x, y in zip(numbers1, numbers2)]\n",
        "\n",
        "print(f'multiplication: {multiplication}')\n",
        "print(f'subtraction: {subtraction}')"
      ],
      "metadata": {
        "colab": {
          "base_uri": "https://localhost:8080/"
        },
        "id": "lCr9AtkK0wxh",
        "outputId": "6253746b-b837-4898-d385-f724c58702e5"
      },
      "execution_count": 26,
      "outputs": [
        {
          "output_type": "stream",
          "name": "stdout",
          "text": [
            "numbers1: [92, 45, 59, 76, 74, 26, 23, 68, 69, 40]\n",
            "numbers2: [49, 72, 91, 76, 47, 28, 34, 35, 1, 92]\n",
            "multiplication: [4508, 3240, 5369, 5776, 3478, 728, 782, 2380, 69, 3680]\n",
            "subtraction: [43, -27, -32, 0, 27, -2, -11, 33, 68, -52]\n"
          ]
        }
      ]
    },
    {
      "cell_type": "markdown",
      "source": [
        "# List comprehension(리스트 내포)\n",
        "\n",
        "1 ~ 10 정수들을 순서대로 리스트에 저장: `[1, 2, 3, ..., 9, 10]`"
      ],
      "metadata": {
        "id": "wXBk25f1sWib"
      }
    },
    {
      "cell_type": "code",
      "source": [
        "numbers = []\n",
        "for x in range(1, 11):\n",
        "  numbers.append(x)\n",
        "\n",
        "numbers"
      ],
      "metadata": {
        "colab": {
          "base_uri": "https://localhost:8080/"
        },
        "id": "ZcglEXNCs9pC",
        "outputId": "fe509cc5-289e-4aef-c993-fcf5621a9fac"
      },
      "execution_count": 10,
      "outputs": [
        {
          "output_type": "execute_result",
          "data": {
            "text/plain": [
              "[1, 2, 3, 4, 5, 6, 7, 8, 9, 10]"
            ]
          },
          "metadata": {},
          "execution_count": 10
        }
      ]
    },
    {
      "cell_type": "code",
      "source": [
        "numbers = [x for x in range(1, 11)]\n",
        "numbers"
      ],
      "metadata": {
        "colab": {
          "base_uri": "https://localhost:8080/"
        },
        "id": "pVTp13tgtZmK",
        "outputId": "9c4fa516-93b5-4ea7-c4bc-0e4226fbf524"
      },
      "execution_count": 11,
      "outputs": [
        {
          "output_type": "execute_result",
          "data": {
            "text/plain": [
              "[1, 2, 3, 4, 5, 6, 7, 8, 9, 10]"
            ]
          },
          "metadata": {},
          "execution_count": 11
        }
      ]
    },
    {
      "cell_type": "code",
      "source": [
        "# [1, 4, 9, 16, ..., 81, 100]\n",
        "\n",
        "squares = [x * x for x in range(1, 11)]\n",
        "squares"
      ],
      "metadata": {
        "colab": {
          "base_uri": "https://localhost:8080/"
        },
        "id": "858hnWqrt-jv",
        "outputId": "0e4b42af-3651-4274-a276-e895f2981c9d"
      },
      "execution_count": 13,
      "outputs": [
        {
          "output_type": "execute_result",
          "data": {
            "text/plain": [
              "[1, 4, 9, 16, 25, 36, 49, 64, 81, 100]"
            ]
          },
          "metadata": {},
          "execution_count": 13
        }
      ]
    },
    {
      "cell_type": "code",
      "source": [
        "# [0, 10) 범위의 난수 10개를 저장하는 리스트\n",
        "\n",
        "numbers = [random.randrange(10) for _ in range(10)]\n",
        "numbers"
      ],
      "metadata": {
        "colab": {
          "base_uri": "https://localhost:8080/"
        },
        "id": "59Hjqo5Ku59Y",
        "outputId": "0a118180-094d-4dd2-86ac-872ee05b5462"
      },
      "execution_count": 14,
      "outputs": [
        {
          "output_type": "execute_result",
          "data": {
            "text/plain": [
              "[5, 4, 6, 0, 8, 5, 4, 3, 9, 8]"
            ]
          },
          "metadata": {},
          "execution_count": 14
        }
      ]
    }
  ]
}