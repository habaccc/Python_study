{
  "nbformat": 4,
  "nbformat_minor": 0,
  "metadata": {
    "colab": {
      "provenance": [],
      "authorship_tag": "ABX9TyO8TxESZ7NWyK4gV8fKviTa",
      "include_colab_link": true
    },
    "kernelspec": {
      "name": "python3",
      "display_name": "Python 3"
    },
    "language_info": {
      "name": "python"
    }
  },
  "cells": [
    {
      "cell_type": "markdown",
      "metadata": {
        "id": "view-in-github",
        "colab_type": "text"
      },
      "source": [
        "<a href=\"https://colab.research.google.com/github/habaccc/Python_study1/blob/main/py05_list.ipynb\" target=\"_parent\"><img src=\"https://colab.research.google.com/assets/colab-badge.svg\" alt=\"Open In Colab\"/></a>"
      ]
    },
    {
      "cell_type": "markdown",
      "source": [
        "# list\n",
        "\n",
        "* 여러 개의 값들을 하나의 변수에 저장하기 위한 데이터 타입.\n",
        "* element(원소, 요소): 리스트에 저장되는 각각의 값.\n",
        "* index(인덱스): 리스트에서 원소가 저장된 위치\n",
        "  * 리스트의 인덱스는 **0**부터 시작.\n",
        "  * 리스트의 마지막 인덱스는 (원소 개수 - 1).\n",
        "* 리스트는 원소들을 추가, 삭제, 변경할 수 있음.\n",
        "  * `tuble`과 다른 점!"
      ],
      "metadata": {
        "id": "pwixWXnth6_l"
      }
    },
    {
      "cell_type": "code",
      "source": [
        "# 숫자들을 저장하는 리스트\n",
        "numbers = [1, 2, 3, 10, 20, 30]\n",
        "numbers"
      ],
      "metadata": {
        "colab": {
          "base_uri": "https://localhost:8080/"
        },
        "id": "CwoamGdYjdnQ",
        "outputId": "10da3cdb-9006-4298-cc05-32f9561e9a14"
      },
      "execution_count": null,
      "outputs": [
        {
          "output_type": "execute_result",
          "data": {
            "text/plain": [
              "[1, 2, 3, 10, 20, 30]"
            ]
          },
          "metadata": {},
          "execution_count": 1
        }
      ]
    },
    {
      "cell_type": "markdown",
      "source": [
        "# 인덱싱(indexing)\n",
        "\n",
        "  인덱스를 사용해서 리스트의 원소를 참조하는 방법."
      ],
      "metadata": {
        "id": "Y6a8t80nnndb"
      }
    },
    {
      "cell_type": "code",
      "source": [
        "numbers[0] # 리스트 numbers의 인덱스 0 위치의 원소"
      ],
      "metadata": {
        "id": "N39u-wfCoFU0"
      },
      "execution_count": null,
      "outputs": []
    },
    {
      "cell_type": "code",
      "source": [
        "numbers[5] # 리스트 numbers의 인덱스 5 위치의 원소"
      ],
      "metadata": {
        "id": "kBCYZ5F3oKRj"
      },
      "execution_count": null,
      "outputs": []
    },
    {
      "cell_type": "code",
      "source": [
        "numbers[-1] # 리스트에서 가장 마지막 원소"
      ],
      "metadata": {
        "id": "gNToN9kaodnH"
      },
      "execution_count": null,
      "outputs": []
    },
    {
      "cell_type": "code",
      "source": [
        "numbers[-6]"
      ],
      "metadata": {
        "colab": {
          "base_uri": "https://localhost:8080/"
        },
        "id": "n2X-k3H9zbKt",
        "outputId": "4c624932-8c66-4de0-f56f-abf8a5a87187"
      },
      "execution_count": null,
      "outputs": [
        {
          "output_type": "execute_result",
          "data": {
            "text/plain": [
              "1"
            ]
          },
          "metadata": {},
          "execution_count": 17
        }
      ]
    },
    {
      "cell_type": "markdown",
      "source": [
        "# slicing\n",
        "\n",
        "인덱스를 사용해서 리스트의 부분집합(리스트)를 잘라내는 방법.\n",
        "\n",
        "`list[start:end]`\n",
        "\n",
        "* start <= index < end 범위의 인덱스 위치의 원소들을 잘라냄.\n",
        "* start를 생략한 경우에는 첫번째 원소부터 잘라냄.\n",
        "  * `list[0:5]`와 `list[:5]`은 같은 결과.\n",
        "* end를 생략한 경우에는 마지막 원소까지 잘라냄.\n",
        "* 리스트를 slicing한 결과는 또다른 새로운 **리스트**."
      ],
      "metadata": {
        "id": "_xb5EDvFqQPq"
      }
    },
    {
      "cell_type": "code",
      "source": [
        "numbers"
      ],
      "metadata": {
        "colab": {
          "base_uri": "https://localhost:8080/"
        },
        "id": "OEhItTqnrdz8",
        "outputId": "e7add815-ac26-4ed3-8da0-32cc728c65ab"
      },
      "execution_count": null,
      "outputs": [
        {
          "output_type": "execute_result",
          "data": {
            "text/plain": [
              "[1, 2, 3, 10, 20, 30]"
            ]
          },
          "metadata": {},
          "execution_count": 2
        }
      ]
    },
    {
      "cell_type": "code",
      "source": [
        "numbers[1:4]"
      ],
      "metadata": {
        "colab": {
          "base_uri": "https://localhost:8080/"
        },
        "id": "kxFaKyG1rgr7",
        "outputId": "92bfbe65-a12b-4c55-d275-50d2588cbf80"
      },
      "execution_count": null,
      "outputs": [
        {
          "output_type": "execute_result",
          "data": {
            "text/plain": [
              "[2, 3, 10]"
            ]
          },
          "metadata": {},
          "execution_count": 3
        }
      ]
    },
    {
      "cell_type": "code",
      "source": [
        "numbers[3:6]"
      ],
      "metadata": {
        "colab": {
          "base_uri": "https://localhost:8080/"
        },
        "id": "MZQlqQwIsxDi",
        "outputId": "9f6a2e8c-1b19-4bdc-e1eb-5872ae784d30"
      },
      "execution_count": null,
      "outputs": [
        {
          "output_type": "execute_result",
          "data": {
            "text/plain": [
              "[10, 20, 30]"
            ]
          },
          "metadata": {},
          "execution_count": 5
        }
      ]
    },
    {
      "cell_type": "code",
      "source": [
        "numbers[3:]"
      ],
      "metadata": {
        "colab": {
          "base_uri": "https://localhost:8080/"
        },
        "id": "C1GySJx1szNp",
        "outputId": "29c3fa39-b3cf-4677-92ab-90a26f395757"
      },
      "execution_count": null,
      "outputs": [
        {
          "output_type": "execute_result",
          "data": {
            "text/plain": [
              "[10, 20, 30]"
            ]
          },
          "metadata": {},
          "execution_count": 4
        }
      ]
    },
    {
      "cell_type": "code",
      "source": [
        "numbers[:3] # 리스트에서 앞에서 3개를 선택"
      ],
      "metadata": {
        "colab": {
          "base_uri": "https://localhost:8080/"
        },
        "id": "t7Kw3ZIItIXL",
        "outputId": "3f388a6f-a0ab-487c-dc4a-67ffb9d98fe2"
      },
      "execution_count": null,
      "outputs": [
        {
          "output_type": "execute_result",
          "data": {
            "text/plain": [
              "[1, 2, 3]"
            ]
          },
          "metadata": {},
          "execution_count": 6
        }
      ]
    },
    {
      "cell_type": "code",
      "source": [
        "numbers[-3:] # 리스트에서 뒤에서 3개"
      ],
      "metadata": {
        "colab": {
          "base_uri": "https://localhost:8080/"
        },
        "id": "fL1LfpFCtajC",
        "outputId": "68369930-a904-49a8-d295-5e55457f319f"
      },
      "execution_count": null,
      "outputs": [
        {
          "output_type": "execute_result",
          "data": {
            "text/plain": [
              "[10, 20, 30]"
            ]
          },
          "metadata": {},
          "execution_count": 8
        }
      ]
    },
    {
      "cell_type": "code",
      "source": [
        "numbers[0:1]"
      ],
      "metadata": {
        "colab": {
          "base_uri": "https://localhost:8080/"
        },
        "id": "I4XaLXjsuTdj",
        "outputId": "537164d5-6bab-40be-8a9e-576e579b1fe0"
      },
      "execution_count": null,
      "outputs": [
        {
          "output_type": "execute_result",
          "data": {
            "text/plain": [
              "[1]"
            ]
          },
          "metadata": {},
          "execution_count": 9
        }
      ]
    },
    {
      "cell_type": "code",
      "source": [
        "numbers[0]"
      ],
      "metadata": {
        "colab": {
          "base_uri": "https://localhost:8080/"
        },
        "id": "sM_7JLoNzi0X",
        "outputId": "57f38e81-c2a6-4dd6-e533-2043a2c8640c"
      },
      "execution_count": null,
      "outputs": [
        {
          "output_type": "execute_result",
          "data": {
            "text/plain": [
              "1"
            ]
          },
          "metadata": {},
          "execution_count": 18
        }
      ]
    },
    {
      "cell_type": "markdown",
      "source": [
        "# 문자열(str)\n",
        "\n",
        "* 문자들의 *리스트*\n",
        "* 문자열은 인덱스를 사용할 수 있음.\n",
        "*indexing, slicing 가능."
      ],
      "metadata": {
        "id": "qPI1OYygvSwz"
      }
    },
    {
      "cell_type": "code",
      "source": [
        "message = '안녕하세요, 여러분!' # 11개의 문자들로 이루어진 리스트."
      ],
      "metadata": {
        "id": "7gWzAgQfvdzY"
      },
      "execution_count": null,
      "outputs": []
    },
    {
      "cell_type": "code",
      "source": [
        "message[0] # 문자열에서 첫번째 문자"
      ],
      "metadata": {
        "colab": {
          "base_uri": "https://localhost:8080/",
          "height": 35
        },
        "id": "vjG5kN62wBgl",
        "outputId": "b9c495a4-9737-43f3-d09c-e474e8e9fae1"
      },
      "execution_count": null,
      "outputs": [
        {
          "output_type": "execute_result",
          "data": {
            "text/plain": [
              "'안'"
            ],
            "application/vnd.google.colaboratory.intrinsic+json": {
              "type": "string"
            }
          },
          "metadata": {},
          "execution_count": 11
        }
      ]
    },
    {
      "cell_type": "code",
      "source": [
        "message[-1] # 문자열에서 마지막 문자"
      ],
      "metadata": {
        "colab": {
          "base_uri": "https://localhost:8080/",
          "height": 35
        },
        "id": "JTUH_u9FwC8k",
        "outputId": "c4895ac9-02b4-40bb-bc8f-5d0c5f1dfc99"
      },
      "execution_count": null,
      "outputs": [
        {
          "output_type": "execute_result",
          "data": {
            "text/plain": [
              "'!'"
            ],
            "application/vnd.google.colaboratory.intrinsic+json": {
              "type": "string"
            }
          },
          "metadata": {},
          "execution_count": 12
        }
      ]
    },
    {
      "cell_type": "code",
      "source": [
        "message[:3] # 문자열에서 앞에서 3글자"
      ],
      "metadata": {
        "colab": {
          "base_uri": "https://localhost:8080/",
          "height": 35
        },
        "id": "i-u5Wn4dwJI2",
        "outputId": "89cde97f-b7a1-4fe9-d517-11d68f0e57dc"
      },
      "execution_count": null,
      "outputs": [
        {
          "output_type": "execute_result",
          "data": {
            "text/plain": [
              "'안녕하'"
            ],
            "application/vnd.google.colaboratory.intrinsic+json": {
              "type": "string"
            }
          },
          "metadata": {},
          "execution_count": 13
        }
      ]
    },
    {
      "cell_type": "code",
      "source": [
        "message[-3:] # 문자열에서 뒤에서 3글자"
      ],
      "metadata": {
        "colab": {
          "base_uri": "https://localhost:8080/",
          "height": 35
        },
        "id": "WGzqkCEDwkNc",
        "outputId": "d683cfcb-4ca1-4486-9b06-8eb86097321c"
      },
      "execution_count": null,
      "outputs": [
        {
          "output_type": "execute_result",
          "data": {
            "text/plain": [
              "'러분!'"
            ],
            "application/vnd.google.colaboratory.intrinsic+json": {
              "type": "string"
            }
          },
          "metadata": {},
          "execution_count": 14
        }
      ]
    },
    {
      "cell_type": "code",
      "source": [
        "# 문자열 산술 연산\n",
        "print('hello' + 'python')\n",
        "print('hello' * 3)"
      ],
      "metadata": {
        "colab": {
          "base_uri": "https://localhost:8080/"
        },
        "id": "LpE8eGO7xP0q",
        "outputId": "dca9be44-f772-4888-eda0-76d4e5644013"
      },
      "execution_count": null,
      "outputs": [
        {
          "output_type": "stream",
          "name": "stdout",
          "text": [
            "hellopython\n",
            "hellohellohello\n"
          ]
        }
      ]
    },
    {
      "cell_type": "markdown",
      "source": [
        "# 리스트의 산술 연산\n",
        "\n",
        "* `list + list`\n",
        "* `list + int` 또는 `int + list`"
      ],
      "metadata": {
        "id": "ILtinUahxQ4T"
      }
    },
    {
      "cell_type": "code",
      "source": [
        "[1, 2, 3] + [4, 5, 6] # concatenate"
      ],
      "metadata": {
        "colab": {
          "base_uri": "https://localhost:8080/"
        },
        "id": "MG6s4a7Uxf7P",
        "outputId": "da835dd3-8585-4c1d-969a-854976cabb0f"
      },
      "execution_count": null,
      "outputs": [
        {
          "output_type": "execute_result",
          "data": {
            "text/plain": [
              "[1, 2, 3, 4, 5, 6]"
            ]
          },
          "metadata": {},
          "execution_count": 15
        }
      ]
    },
    {
      "cell_type": "code",
      "source": [
        "[1, 2, 3] * 3"
      ],
      "metadata": {
        "colab": {
          "base_uri": "https://localhost:8080/"
        },
        "id": "fRAw3G6XxuRb",
        "outputId": "8bc6ab0b-b10e-425c-9064-e1104539480a"
      },
      "execution_count": null,
      "outputs": [
        {
          "output_type": "execute_result",
          "data": {
            "text/plain": [
              "[1, 2, 3, 1, 2, 3, 1, 2, 3]"
            ]
          },
          "metadata": {},
          "execution_count": 16
        }
      ]
    },
    {
      "cell_type": "code",
      "source": [],
      "metadata": {
        "id": "eEkL5p1Jxx2J"
      },
      "execution_count": null,
      "outputs": []
    },
    {
      "cell_type": "markdown",
      "source": [
        "# list와 for 반복문"
      ],
      "metadata": {
        "id": "iLxcfKPy2DSC"
      }
    },
    {
      "cell_type": "code",
      "source": [
        "for x in 'hello':\n",
        "  print(x)"
      ],
      "metadata": {
        "colab": {
          "base_uri": "https://localhost:8080/"
        },
        "id": "a5HWMLD72XJj",
        "outputId": "c944d37e-320c-4af4-b84d-9f76fe71376c"
      },
      "execution_count": null,
      "outputs": [
        {
          "output_type": "stream",
          "name": "stdout",
          "text": [
            "h\n",
            "e\n",
            "l\n",
            "l\n",
            "o\n"
          ]
        }
      ]
    },
    {
      "cell_type": "code",
      "source": [
        "numbers = [1, 10, 5, 100] # 순서대로 값만 찾을 때\n",
        "for x in numbers:\n",
        "  print(x)"
      ],
      "metadata": {
        "colab": {
          "base_uri": "https://localhost:8080/"
        },
        "id": "2u-lKHYN2shY",
        "outputId": "c714aca6-25b3-4a95-e05e-0917f3f7a0f6"
      },
      "execution_count": null,
      "outputs": [
        {
          "output_type": "stream",
          "name": "stdout",
          "text": [
            "1\n",
            "10\n",
            "5\n",
            "100\n"
          ]
        }
      ]
    },
    {
      "cell_type": "code",
      "source": [
        "for i in range(len(numbers)): # 0 <= x < len\n",
        "  print(i, ':', numbers[i])"
      ],
      "metadata": {
        "colab": {
          "base_uri": "https://localhost:8080/"
        },
        "id": "tfS-H2zK4YJh",
        "outputId": "2e8d2c9b-2520-41df-e172-4371045f06ed"
      },
      "execution_count": null,
      "outputs": [
        {
          "output_type": "stream",
          "name": "stdout",
          "text": [
            "0 : 1\n",
            "1 : 10\n",
            "2 : 5\n",
            "3 : 100\n"
          ]
        }
      ]
    },
    {
      "cell_type": "code",
      "source": [
        "for i, v in enumerate(numbers): # 인덱스와 값을 같이 찾을 때\n",
        "  print(i, ':', v)"
      ],
      "metadata": {
        "colab": {
          "base_uri": "https://localhost:8080/"
        },
        "id": "Qo3ky0GS4cOl",
        "outputId": "7c576258-1385-4968-ee1f-9c49d8e5b5a0"
      },
      "execution_count": null,
      "outputs": [
        {
          "output_type": "stream",
          "name": "stdout",
          "text": [
            "0 : 1\n",
            "1 : 10\n",
            "2 : 5\n",
            "3 : 100\n"
          ]
        }
      ]
    },
    {
      "cell_type": "code",
      "source": [
        "numbers1 = [1, 2, 3]\n",
        "numbers2 = [10, 11, 12]\n",
        "# numbers1과 numbers2의 같은 인덱스의 원소들끼리의 합을 원소로 갖는 리스트\n",
        "# [11, 13, 15]\n",
        "result = [] # 빈(empty) 리스트\n",
        "for i in range(len(numbers1)): # 0 <= i < len\n",
        "  result.append(numbers1[i] + numbers2[i])\n",
        "result\n"
      ],
      "metadata": {
        "colab": {
          "base_uri": "https://localhost:8080/"
        },
        "id": "1y7wksvn54cm",
        "outputId": "f4b7f7cd-aa8f-4bc9-94c2-f038a8428e34"
      },
      "execution_count": null,
      "outputs": [
        {
          "output_type": "execute_result",
          "data": {
            "text/plain": [
              "[11, 13, 15]"
            ]
          },
          "metadata": {},
          "execution_count": 31
        }
      ]
    },
    {
      "cell_type": "code",
      "source": [
        "result = []\n",
        "for x, y in zip(numbers1, numbers2): # zip: 같은 위치에 있는 것 끼리 묶어줌\n",
        "  result.append(x + y)\n",
        "result"
      ],
      "metadata": {
        "colab": {
          "base_uri": "https://localhost:8080/"
        },
        "id": "4CyZKbS38i3v",
        "outputId": "af952973-68d1-4b7d-967e-bc692765ad9c"
      },
      "execution_count": null,
      "outputs": [
        {
          "output_type": "execute_result",
          "data": {
            "text/plain": [
              "[11, 13, 15]"
            ]
          },
          "metadata": {},
          "execution_count": 33
        }
      ]
    },
    {
      "cell_type": "markdown",
      "source": [
        "파이썬에 난수를 만드는 방법:"
      ],
      "metadata": {
        "id": "w2LGueLt-HYM"
      }
    },
    {
      "cell_type": "code",
      "source": [
        "import random # random 모듈을 임포트"
      ],
      "metadata": {
        "id": "aSatYoPn-KQt"
      },
      "execution_count": 5,
      "outputs": []
    },
    {
      "cell_type": "code",
      "source": [
        "# random 모듈의 random() 함수를 호출\n",
        "random.random() # [0, 1) 범위(0 <= x < 1)의 실수 난수를 리턴."
      ],
      "metadata": {
        "colab": {
          "base_uri": "https://localhost:8080/"
        },
        "id": "sPEq-4F0-dBd",
        "outputId": "072e94d9-8166-4467-a076-a00e6d37b189"
      },
      "execution_count": null,
      "outputs": [
        {
          "output_type": "execute_result",
          "data": {
            "text/plain": [
              "0.582771670419184"
            ]
          },
          "metadata": {},
          "execution_count": 41
        }
      ]
    },
    {
      "cell_type": "code",
      "source": [
        "# random 모듈의 randrange() 함수를 호출\n",
        "random.randrange(3) # [0, 3) 범위의 정수 난수를 리턴."
      ],
      "metadata": {
        "colab": {
          "base_uri": "https://localhost:8080/"
        },
        "id": "naTD-Rm7_Okb",
        "outputId": "c2d3fdfe-b39d-45d4-b9cd-6b7453325a2e"
      },
      "execution_count": null,
      "outputs": [
        {
          "output_type": "execute_result",
          "data": {
            "text/plain": [
              "1"
            ]
          },
          "metadata": {},
          "execution_count": 42
        }
      ]
    },
    {
      "cell_type": "code",
      "source": [
        "random.randrange(1, 4) #[1, 4) 범위의 정수 난수를 리턴."
      ],
      "metadata": {
        "colab": {
          "base_uri": "https://localhost:8080/"
        },
        "id": "_o83GWIi_lNp",
        "outputId": "c4274453-c37d-4311-9fe4-211654f66856"
      },
      "execution_count": null,
      "outputs": [
        {
          "output_type": "execute_result",
          "data": {
            "text/plain": [
              "3"
            ]
          },
          "metadata": {},
          "execution_count": 46
        }
      ]
    },
    {
      "cell_type": "markdown",
      "source": [
        "## Exercises\n",
        "### Ex 1.\n",
        "1. 빈 리스트를 생성\n",
        "2. 1 이상 10 이하의 정수 난수 5개를 저장.\n",
        "3. 리스트의 모든 정수들의 합을 출력.\n",
        "4. 리스트의 모든 정수들의 평균을 출력."
      ],
      "metadata": {
        "id": "8DCbpQjhDEE_"
      }
    },
    {
      "cell_type": "code",
      "source": [
        "# Ex.1\n",
        "a = []\n",
        "for x in range(5):\n",
        "  a.append(random.randint(1, 10))\n",
        "print(a)\n",
        "\n",
        "sum = 0\n",
        "for i in range(len(a)):\n",
        "  sum = sum + a[i]\n",
        "  average = sum / len(a)\n",
        "print('sum:', sum)\n",
        "print('average:', average)"
      ],
      "metadata": {
        "colab": {
          "base_uri": "https://localhost:8080/"
        },
        "id": "2QKUuUMhD3B8",
        "outputId": "ff33aeb7-bb66-4fed-b878-6bbed5f43c8e"
      },
      "execution_count": 12,
      "outputs": [
        {
          "output_type": "stream",
          "name": "stdout",
          "text": [
            "[8, 10, 9, 7, 3]\n",
            "sum: 37\n",
            "average: 7.4\n"
          ]
        }
      ]
    },
    {
      "cell_type": "markdown",
      "source": [
        "### Ex 2.\n",
        "1. 빈 리스트(numbers)를 생성.\n",
        "2. 10 이상, 100 미만의 정수 난수 10개를 numbers에 저장.\n",
        "3. numbers에서 짝수들만 선택해서 evens 리스트를 만들고 출력.\n",
        "4. numbers에서 홀수들만 선택해서 odds 리스트를 만들고 출력."
      ],
      "metadata": {
        "id": "lFryVOc4D-op"
      }
    },
    {
      "cell_type": "code",
      "source": [
        "# Ex.2\n",
        "numbers = []\n",
        "\n",
        "for x in range(10):\n",
        "  numbers.append(random.randint(10, 99))\n",
        "print(numbers)\n",
        "\n",
        "evens = []\n",
        "odds = []\n",
        "\n",
        "for y in numbers:\n",
        "  if y % 2 == 0:\n",
        "    evens.append(y)\n",
        "  else:\n",
        "    odds.append(y)\n",
        "\n",
        "print('evens:', evens)\n",
        "print('odds:', odds)\n"
      ],
      "metadata": {
        "colab": {
          "base_uri": "https://localhost:8080/"
        },
        "id": "GvRHETNZG5FH",
        "outputId": "029ec9c0-4e7a-4313-c5eb-9dfdb51d4644"
      },
      "execution_count": 10,
      "outputs": [
        {
          "output_type": "stream",
          "name": "stdout",
          "text": [
            "[65, 98, 41, 42, 11, 71, 86, 37, 77, 72]\n",
            "evens: [98, 42, 86, 72]\n",
            "odds: [65, 41, 11, 71, 37, 77]\n"
          ]
        }
      ]
    },
    {
      "cell_type": "markdown",
      "source": [
        "### Ex 3.\n",
        "1. 빈 리스트 numbers를 만듦.\n",
        "2. -10 이상 10 이하인 범위의 정수 난수 10개를 numbers에 저장.\n",
        "3. numbers의 원소가 양수이면 True, 그렇지 않으면 False를 저장하는 is_positive 리스트를 만들고 출력."
      ],
      "metadata": {
        "id": "nRG6w7ohEDUR"
      }
    },
    {
      "cell_type": "code",
      "source": [
        "# Ex.3\n",
        "numbers = []\n",
        "\n",
        "for x in range(10):\n",
        "  numbers.append(random.randint(-10, 10))\n",
        "print(numbers)\n",
        "\n",
        "is_positive = []\n",
        "\n",
        "for y in numbers:\n",
        "  if y > 0:\n",
        "    is_positive.append(True)\n",
        "  else:\n",
        "    is_positive.append(False)\n",
        "\n",
        "print('is_positive:', is_positive)\n"
      ],
      "metadata": {
        "colab": {
          "base_uri": "https://localhost:8080/"
        },
        "id": "Y6ygZJoxIatO",
        "outputId": "de8c872c-4c21-4967-b9d3-b5629061ae22"
      },
      "execution_count": 15,
      "outputs": [
        {
          "output_type": "stream",
          "name": "stdout",
          "text": [
            "[-4, -2, -10, 4, 6, -4, -10, -10, -6, -10]\n",
            "is_positive: [False, False, False, True, True, False, False, False, False, False]\n"
          ]
        }
      ]
    },
    {
      "cell_type": "markdown",
      "source": [
        "### Ex 4.\n",
        "1. gender_codes 리스트에 0 또는 1을 랜덤하게 10개를 저장.\n",
        "2. gender_codes의 값이 0이면 'Male', 그렇지 않으며 'Female'을 저장하는 genders 리스트를 만들고 출력."
      ],
      "metadata": {
        "id": "5WYEKf27EHzh"
      }
    },
    {
      "cell_type": "code",
      "source": [
        "# Ex.4\n",
        "gender_codes = []\n",
        "\n",
        "for x in range(10):\n",
        "  gender_codes.append(random.randint(0, 1))\n",
        "print(gender_codes)\n",
        "\n",
        "genders = []\n",
        "\n",
        "for y in gender_codes:\n",
        "  if y == 0:\n",
        "    genders.append('Male')\n",
        "  else:\n",
        "    genders.append('Female')\n",
        "\n",
        "print('genders:', genders)\n"
      ],
      "metadata": {
        "colab": {
          "base_uri": "https://localhost:8080/"
        },
        "id": "_8uPXqVOzPgO",
        "outputId": "e551e12a-47c1-47c3-deea-2e78716be714"
      },
      "execution_count": 22,
      "outputs": [
        {
          "output_type": "stream",
          "name": "stdout",
          "text": [
            "[1, 0, 0, 1, 1, 0, 1, 0, 0, 0]\n",
            "genders: ['Female', 'Male', 'Male', 'Female', 'Female', 'Male', 'Female', 'Male', 'Male', 'Male']\n"
          ]
        }
      ]
    },
    {
      "cell_type": "markdown",
      "source": [
        "### Ex 5.\n",
        "1. numbers1: 100 미만의 정수 난수 10개를 저장하는 리스트.\n",
        "2. numbers2: 100 미만의 정수 난수 10개를 저장하는 리스트.\n",
        "3. multiplication: numbers1과 numbers2의 같은 인덱스에 있는 원소들끼리의 곱셈 결과를 저장하는 리스트.\n",
        "4. subtraction: numbers1의 원소에서 같은 인덱스에 있는 numbers2의 원소를 뺀 값을 저장하는 리스트.\n",
        "\n",
        "numbers1, numbers2, multiplication, subtraction를 출력."
      ],
      "metadata": {
        "id": "jNXMmS-8EMUs"
      }
    },
    {
      "cell_type": "code",
      "source": [
        "# Ex.5\n",
        "numbers1 = []\n",
        "numbers2 = []\n",
        "\n",
        "for x in range(10):\n",
        "  numbers1.append(random.randint(0, 99))\n",
        "  numbers2.append(random.randint(0, 99))\n",
        "\n",
        "print('numbers1:', numbers1)\n",
        "print('numbers2:', numbers2)\n",
        "\n",
        "multiplication = []\n",
        "subtraction = []\n",
        "\n",
        "for y, z in zip(numbers1, numbers2):\n",
        "  multiplication.append(y * z)\n",
        "  subtraction.append(y - z)\n",
        "\n",
        "print('multiplication:', multiplication)\n",
        "print('subtraction:', subtraction)\n"
      ],
      "metadata": {
        "id": "L6NLfMDlD28m",
        "colab": {
          "base_uri": "https://localhost:8080/"
        },
        "outputId": "cc4008ae-fbbc-45de-a5fd-9df4132ecbfd"
      },
      "execution_count": 29,
      "outputs": [
        {
          "output_type": "stream",
          "name": "stdout",
          "text": [
            "numbers1: [2, 44, 81, 54, 46, 2, 33, 79, 25, 62]\n",
            "numbers2: [4, 87, 95, 25, 25, 89, 6, 92, 21, 60]\n",
            "multiplication: [8, 3828, 7695, 1350, 1150, 178, 198, 7268, 525, 3720]\n",
            "subtraction: [-2, -43, -14, 29, 21, -87, 27, -13, 4, 2]\n"
          ]
        }
      ]
    }
  ]
}